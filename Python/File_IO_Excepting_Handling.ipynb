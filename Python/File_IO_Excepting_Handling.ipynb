{
  "nbformat": 4,
  "nbformat_minor": 0,
  "metadata": {
    "kernelspec": {
      "display_name": "Python 3",
      "language": "python",
      "name": "python3"
    },
    "language_info": {
      "codemirror_mode": {
        "name": "ipython",
        "version": 3
      },
      "file_extension": ".py",
      "mimetype": "text/x-python",
      "name": "python",
      "nbconvert_exporter": "python",
      "pygments_lexer": "ipython3",
      "version": "3.7.6"
    },
    "colab": {
      "name": "File IO Excepting Handling.ipynb",
      "provenance": []
    }
  },
  "cells": [
    {
      "cell_type": "markdown",
      "metadata": {
        "id": "ThIgQqSIkseL"
      },
      "source": [
        "#####  Topics\n",
        "    File I/O Handling\n",
        "    Exception Handling\n",
        "    Regular Expression"
      ]
    },
    {
      "cell_type": "markdown",
      "metadata": {
        "id": "89daUZWrkseS"
      },
      "source": [
        "###### File I/O Handling\n",
        "    - open()\n",
        "    - write()\n",
        "    - writelines()\n",
        "    - read()\n",
        "    - readline()\n",
        "    - readlines()"
      ]
    },
    {
      "cell_type": "code",
      "metadata": {
        "id": "Mw4j7zUhkseU"
      },
      "source": [
        "f = open(\"file.txt\", mode= 'w')\n",
        "#### perform the operations\n",
        "f.close()"
      ],
      "execution_count": null,
      "outputs": []
    },
    {
      "cell_type": "code",
      "metadata": {
        "id": "gcoGhdmhkseW"
      },
      "source": [
        "with open(\"file.txt\", mode= 'w') as f:\n",
        "    # perform the operations\n",
        "    pass"
      ],
      "execution_count": null,
      "outputs": []
    },
    {
      "cell_type": "markdown",
      "metadata": {
        "id": "Th_MTzMSkseW"
      },
      "source": [
        "###### writing to a file"
      ]
    },
    {
      "cell_type": "code",
      "metadata": {
        "id": "kPSb2sAZkseY"
      },
      "source": [
        "with open(\"file.txt\", mode= 'w') as f: # write mode\n",
        "    f.write(\"This is 1st line.\\nThis is 2nd line. This is 3rd line.\")"
      ],
      "execution_count": null,
      "outputs": []
    },
    {
      "cell_type": "code",
      "metadata": {
        "id": "pzuFim2-kseZ"
      },
      "source": [
        "with open(\"file.txt\", mode= 'a') as f: # append mode\n",
        "#     f.seek(0)\n",
        "    f.write(\"\\n This is 4th line.\\nThis is 5th line.\")\n",
        "#     f.write(\"\\n\")"
      ],
      "execution_count": null,
      "outputs": []
    },
    {
      "cell_type": "code",
      "metadata": {
        "id": "5Wefp6__kseZ"
      },
      "source": [
        "### writing multiple strings\n",
        "f = open(\"file.txt\", mode= 'a')\n",
        "#### perform the operations\n",
        "f.writelines([\"string1 \",\"string2 \",\"string3 \"])\n",
        "f.close()"
      ],
      "execution_count": null,
      "outputs": []
    },
    {
      "cell_type": "code",
      "metadata": {
        "id": "KW1gCDACksea"
      },
      "source": [
        "# f.closed\n",
        "# f.writable"
      ],
      "execution_count": null,
      "outputs": []
    },
    {
      "cell_type": "code",
      "metadata": {
        "id": "2FK0kIO2kseb"
      },
      "source": [
        "#### reading a file"
      ],
      "execution_count": null,
      "outputs": []
    },
    {
      "cell_type": "code",
      "metadata": {
        "id": "cGwKjBevksec",
        "outputId": "0a23e76c-d1ee-400f-a425-9ee7988d0aa8"
      },
      "source": [
        "f = open(\"file.txt\", mode= 'r')\n",
        "#### perform the operations\n",
        "print(f.read())\n",
        "f.close()"
      ],
      "execution_count": null,
      "outputs": [
        {
          "output_type": "stream",
          "text": [
            "This is 1st line.\n",
            "This is 2nd line. This is 3rd line.\n",
            " This is 4th line.\n",
            "This is 5th line.string1 string2 string3 \n"
          ],
          "name": "stdout"
        }
      ]
    },
    {
      "cell_type": "code",
      "metadata": {
        "id": "YfMQpqpXksee",
        "outputId": "957e2d4b-1a81-4e84-f78c-79c2afcb9ba6"
      },
      "source": [
        "f = open(\"file.txt\", mode= 'r')\n",
        "#### perform the operations\n",
        "print(f.readline())\n",
        "print(f.readline())\n",
        "print(f.readline())\n",
        "f.close()"
      ],
      "execution_count": null,
      "outputs": [
        {
          "output_type": "stream",
          "text": [
            "This is 1st line.\n",
            "\n",
            "This is 2nd line. This is 3rd line.\n",
            "\n",
            " This is 4th line.\n",
            "\n"
          ],
          "name": "stdout"
        }
      ]
    },
    {
      "cell_type": "code",
      "metadata": {
        "id": "49A9OoTNksef",
        "outputId": "b422584c-93fd-46a3-e7a4-3e3fb7505534"
      },
      "source": [
        "f = open(\"file.txt\", mode= 'r')\n",
        "#### perform the operations\n",
        "print(f.readline())\n",
        "f.close()"
      ],
      "execution_count": null,
      "outputs": [
        {
          "output_type": "stream",
          "text": [
            "This is 1st line.\n",
            "\n"
          ],
          "name": "stdout"
        }
      ]
    },
    {
      "cell_type": "code",
      "metadata": {
        "id": "SrtCy0Szkseg",
        "outputId": "dbfa5a36-4137-481b-c24a-7c15a1ed0261"
      },
      "source": [
        "f = open(\"file.txt\", mode= 'r')\n",
        "#### perform the operations\n",
        "print(f.readlines())\n",
        "f.close()"
      ],
      "execution_count": null,
      "outputs": [
        {
          "output_type": "stream",
          "text": [
            "['This is 1st line.\\n', 'This is 2nd line. This is 3rd line.\\n', ' This is 4th line.\\n', 'This is 5th line.string1 string2 string3 ']\n"
          ],
          "name": "stdout"
        }
      ]
    },
    {
      "cell_type": "code",
      "metadata": {
        "id": "f77yvUy6kseh"
      },
      "source": [
        "# ## file at specified location\n",
        "# with open('C:/Users/Dell/Desktop/abc.txt','r') as f:\n",
        "#     pass"
      ],
      "execution_count": null,
      "outputs": []
    },
    {
      "cell_type": "code",
      "metadata": {
        "id": "qo_lFZcnkseh"
      },
      "source": [
        "# with open(\"file.txt\", mode= 'r+') as f: # append mode\n",
        "# #     f.seek(0)\n",
        "#     print(r.read())\n",
        "#     f.write(\"\\n This is 4th line.\\nThis is 5th line.\")\n",
        "# #     f.write(\"\\n\")"
      ],
      "execution_count": null,
      "outputs": []
    },
    {
      "cell_type": "code",
      "metadata": {
        "id": "fi2jtbS3kseh"
      },
      "source": [
        "# with open(\"text.txt\",'r') as f:\n",
        "#     pass"
      ],
      "execution_count": null,
      "outputs": []
    },
    {
      "cell_type": "markdown",
      "metadata": {
        "id": "q8_b2IiIksei"
      },
      "source": [
        "###### Exception Handling\n",
        "\n",
        "    - errors \n",
        "        - syntax errors\n",
        "        - logical errors\n",
        "        - exceptions /runtime errors"
      ]
    },
    {
      "cell_type": "code",
      "metadata": {
        "id": "VQKKGU2Sksej"
      },
      "source": [
        "# with True print('hello')"
      ],
      "execution_count": null,
      "outputs": []
    },
    {
      "cell_type": "code",
      "metadata": {
        "id": "63-a0hOKksej"
      },
      "source": [
        "# 5*2"
      ],
      "execution_count": null,
      "outputs": []
    },
    {
      "cell_type": "code",
      "metadata": {
        "id": "bTQ6foMZksej"
      },
      "source": [
        "# # -----1\n",
        "# # -----2\n",
        "# # ----3\n",
        "# with open(\"text.txt\",'r') as f:\n",
        "#     pass\n",
        "# # ----4\n",
        "# # ----5\n",
        "# # ----6"
      ],
      "execution_count": null,
      "outputs": []
    },
    {
      "cell_type": "code",
      "metadata": {
        "id": "RxR19eCQksek"
      },
      "source": [
        "# with open(\"text.txt\",'r') as f:\n",
        "#     pass\n",
        "\n",
        "# print(4/5)"
      ],
      "execution_count": null,
      "outputs": []
    },
    {
      "cell_type": "code",
      "metadata": {
        "id": "c38_982oksek",
        "outputId": "f1d9ea17-26d6-499b-d1f7-46b7d144ce4a"
      },
      "source": [
        "try: ### any code that can throw error\n",
        "except: ### what to be done when exceptions encountered\n",
        "else:   ###  what to be done when exceptions NOT encountered\n",
        "finally: ### anything to be done irrespective of exceptions   "
      ],
      "execution_count": null,
      "outputs": [
        {
          "output_type": "error",
          "ename": "IndentationError",
          "evalue": "expected an indented block (<ipython-input-19-ef4d6aadf433>, line 2)",
          "traceback": [
            "\u001b[1;36m  File \u001b[1;32m\"<ipython-input-19-ef4d6aadf433>\"\u001b[1;36m, line \u001b[1;32m2\u001b[0m\n\u001b[1;33m    except: ### what to be done when exceptions encountered\u001b[0m\n\u001b[1;37m         ^\u001b[0m\n\u001b[1;31mIndentationError\u001b[0m\u001b[1;31m:\u001b[0m expected an indented block\n"
          ]
        }
      ]
    },
    {
      "cell_type": "code",
      "metadata": {
        "id": "WD4zsBMrksel"
      },
      "source": [
        "try:\n",
        "    x,y = input('Enter an integer: ').split(' ')\n",
        "    print(x+y)\n",
        "#     print(4/5)\n",
        "#     with open(\"text.txt\",'r') as f:\n",
        "#         pass\n",
        "except:\n",
        "    print('Error:File Not Found')\n",
        "finally:\n",
        "    print(4/5)\n",
        "#     pass"
      ],
      "execution_count": null,
      "outputs": []
    },
    {
      "cell_type": "code",
      "metadata": {
        "id": "HYFSSdeUksel"
      },
      "source": [
        "# x,y = input('Enter an integer: ').split(' ')"
      ],
      "execution_count": null,
      "outputs": []
    },
    {
      "cell_type": "code",
      "metadata": {
        "id": "PABKiUevksem"
      },
      "source": [
        "try:\n",
        "    print(5/0)\n",
        "    x,y = input('Enter an integer: ').split(' ')\n",
        "    z = x+y\n",
        "    print(float(z))\n",
        "    \n",
        "#     print(5/6)\n",
        "    \n",
        "#     with open(\"text.txt\",'r') as f:\n",
        "#         pass\n",
        "except:\n",
        "    print('Error')\n",
        "else:\n",
        "    print('Execution completed!')\n",
        "finally:\n",
        "#     print(4/5)\n",
        "    pass"
      ],
      "execution_count": null,
      "outputs": []
    },
    {
      "cell_type": "code",
      "metadata": {
        "id": "cyZh-rloksen"
      },
      "source": [
        "try:\n",
        "    print(5/0)\n",
        "    x,y = input('Enter an integer: ').split(' ')\n",
        "    z = x+y\n",
        "    print(float(z))\n",
        "    \n",
        "#     print(5/6)\n",
        "    \n",
        "#     with open(\"text.txt\",'r') as f:\n",
        "#         pass\n",
        "except:\n",
        "    print('Error')\n",
        "else:\n",
        "    print('Execution completed!')\n",
        "finally:\n",
        "#     print(4/5)\n",
        "    pass"
      ],
      "execution_count": null,
      "outputs": []
    },
    {
      "cell_type": "code",
      "metadata": {
        "id": "a0PsLnagksen"
      },
      "source": [
        "### try block 1\n",
        "try:\n",
        "\n",
        "    x,y = input('Enter an integer: ').split(' ')\n",
        "    z = int(x)+y\n",
        "    print(float(z)) \n",
        "    \n",
        "#     print(5/6)\n",
        "#     with open(\"text.txt\",'r') as f:\n",
        "#         pass\n",
        "except TypeError as e:\n",
        "    print(e)\n",
        "except ValueError:\n",
        "    print(\"Error: Enter exact two values.\")\n",
        "except:\n",
        "    print('Error: Unknown!!')\n",
        "else:\n",
        "    print('Execution completed!')\n",
        "finally:\n",
        "#     print(4/5)\n",
        "    pass\n",
        "\n",
        "\n",
        "#### try block 2\n",
        "try: \n",
        "        print(5/0)\n",
        "except ZeroDivisionError as e:\n",
        "    print(e)\n",
        "    "
      ],
      "execution_count": null,
      "outputs": []
    },
    {
      "cell_type": "code",
      "metadata": {
        "id": "rnrV09a3ksen"
      },
      "source": [
        "# try:\n",
        "#     # logic 1\n",
        "# except:\n",
        "    \n",
        "    \n",
        "# try:\n",
        "#     # logic 2\n",
        "# except:\n",
        "    \n",
        "    \n",
        "# try :\n",
        "# except:    "
      ],
      "execution_count": null,
      "outputs": []
    },
    {
      "cell_type": "code",
      "metadata": {
        "id": "cwxm_Ubrkseo"
      },
      "source": [
        "### try block 1\n",
        "try:\n",
        "\n",
        "    x,y = input('Enter an integer: ').split(' ')\n",
        "    z = int(x)+y\n",
        "    print(float(z)) \n",
        "except (ValueError,TypeError) as e:\n",
        "    print(e)\n",
        "except:\n",
        "    print('Error: Unknown!!')\n",
        "else:\n",
        "    print('Execution completed!')\n",
        "finally:\n",
        "#     print(4/5)\n",
        "    pass"
      ],
      "execution_count": null,
      "outputs": []
    },
    {
      "cell_type": "code",
      "metadata": {
        "id": "YZli4px_kseo"
      },
      "source": [
        "# while  True:\n",
        "#     x = input('Enter an integer: ')\n",
        "# #     print(x)\n",
        "    \n",
        "#     if type(x) == int:\n",
        "#         print(x)\n",
        "#     else:\n",
        "#         print('exiting')\n",
        "#         break"
      ],
      "execution_count": null,
      "outputs": []
    },
    {
      "cell_type": "code",
      "metadata": {
        "id": "GCkNzZvkkse0"
      },
      "source": [
        ""
      ],
      "execution_count": null,
      "outputs": []
    },
    {
      "cell_type": "code",
      "metadata": {
        "id": "AyqQEOmCkse1"
      },
      "source": [
        ""
      ],
      "execution_count": null,
      "outputs": []
    }
  ]
}