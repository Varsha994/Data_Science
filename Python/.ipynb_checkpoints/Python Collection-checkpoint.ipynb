{
 "cells": [
  {
   "cell_type": "markdown",
   "metadata": {},
   "source": [
    "## Python Collection\n",
    "     List\n",
    "     Tuple\n",
    "     Set\n",
    "     Dictionary"
   ]
  },
  {
   "cell_type": "markdown",
   "metadata": {},
   "source": [
    "### List - ordered and changeable, allows duplicate members"
   ]
  },
  {
   "cell_type": "code",
   "execution_count": null,
   "metadata": {},
   "outputs": [],
   "source": [
    "#syntax\n",
    "# [val1,val2,....valN]  # any python supported data type"
   ]
  },
  {
   "cell_type": "code",
   "execution_count": 1,
   "metadata": {},
   "outputs": [
    {
     "name": "stdout",
     "output_type": "stream",
     "text": [
      "<class 'list'>\n",
      "<class 'list'>\n"
     ]
    }
   ],
   "source": [
    "int_list = [1,2,3,4,5]\n",
    "int_float = [1.2, 3.1, 4.3, 4.5]\n",
    "str_list = ['a','b','c','d']\n",
    "mix_list = [1,2.0,'5', False, 1,5]\n",
    "print(type(mix_list))\n",
    "print(type(int_list))"
   ]
  },
  {
   "cell_type": "code",
   "execution_count": 2,
   "metadata": {},
   "outputs": [
    {
     "data": {
      "text/plain": [
       "[1, 2, 2, 3, 1, 2]"
      ]
     },
     "execution_count": 2,
     "metadata": {},
     "output_type": "execute_result"
    }
   ],
   "source": [
    "mylist = [1,2,2,3,1,2]   #allows duplicate members\n",
    "mylist"
   ]
  },
  {
   "cell_type": "code",
   "execution_count": 3,
   "metadata": {},
   "outputs": [
    {
     "data": {
      "text/plain": [
       "[1, 2, 3, 4, 5]"
      ]
     },
     "execution_count": 3,
     "metadata": {},
     "output_type": "execute_result"
    }
   ],
   "source": [
    "## list() - converts any data type into list\n",
    "list((1,2,3,4,5))  \n",
    "list"
   ]
  },
  {
   "cell_type": "markdown",
   "metadata": {},
   "source": [
    "#### Accessing items of list\n",
    "         -indexing\n",
    "         -slicing\n",
    "         -negative indexing\n",
    "         -negative slicing"
   ]
  },
  {
   "cell_type": "code",
   "execution_count": 3,
   "metadata": {},
   "outputs": [
    {
     "name": "stdout",
     "output_type": "stream",
     "text": [
      "1\n",
      "2\n",
      "pune\n",
      "[100, 200, 300, 400, 500]\n",
      "300\n"
     ]
    }
   ],
   "source": [
    "#indexing\n",
    "#syntax: <list_obj>[index]\n",
    "\n",
    "mylist = [1,2,3,4.0,5,'5','string',[100,200,300,400,500],'bangalore','pune','8',9,10,30,50,12]\n",
    "\n",
    "print(mylist[0])  #fetch 1st element\n",
    "\n",
    "print(mylist[1])  #fetch 2nd element\n",
    "\n",
    "print(mylist[9])  #fetch 10th element\n",
    "\n",
    "print(mylist[7])  #fetch 8th element\n",
    "\n",
    "#fetch integer 300 from [100,200,300,400,500] list\n",
    "print(mylist[7][2])\n",
    "\n",
    "#print(mylist[7,[2]])  #error : we have to use separate square bracket"
   ]
  },
  {
   "cell_type": "code",
   "execution_count": 9,
   "metadata": {},
   "outputs": [
    {
     "name": "stdout",
     "output_type": "stream",
     "text": [
      "1 <class 'int'>\n",
      "bangalore <class 'str'>\n",
      "4.0 <class 'float'>\n",
      "[100, 200, 300, 400, 500] <class 'list'>\n"
     ]
    }
   ],
   "source": [
    "# fetching data type of elements of list\n",
    "# in list, the type of each element gets stored in memory as it is, it's not getting mixed up - heterogenous\n",
    "\n",
    "print(mylist[0], type(mylist[0]))  \n",
    "print(mylist[8], type(mylist[8]))  \n",
    "print(mylist[3], type(mylist[3]))  \n",
    "print(mylist[7], type(mylist[7]))  "
   ]
  },
  {
   "cell_type": "code",
   "execution_count": null,
   "metadata": {},
   "outputs": [],
   "source": [
    "#Slicing\n",
    "# syntax: <list_obj>[start:end] wheer end is exclusive and start= 0(default), end= length(list) - 1"
   ]
  },
  {
   "cell_type": "code",
   "execution_count": 13,
   "metadata": {},
   "outputs": [
    {
     "name": "stdout",
     "output_type": "stream",
     "text": [
      "[1, 2, 3, 4.0, 5, '5', 'string', [100, 200, 300, 400, 500], 'bangalore', 'pune', '8', 9, 10, 30, 50, 12]\n"
     ]
    }
   ],
   "source": [
    "print(mylist)"
   ]
  },
  {
   "cell_type": "code",
   "execution_count": 14,
   "metadata": {},
   "outputs": [
    {
     "data": {
      "text/plain": [
       "[1, 2, 3, 4.0]"
      ]
     },
     "execution_count": 14,
     "metadata": {},
     "output_type": "execute_result"
    }
   ],
   "source": [
    "## fetch [1,2,3,4.0]\n",
    "mylist[0:4]\n",
    "mylist[:4]\n",
    "\n",
    "## fetch []"
   ]
  },
  {
   "cell_type": "code",
   "execution_count": 15,
   "metadata": {},
   "outputs": [
    {
     "name": "stdout",
     "output_type": "stream",
     "text": [
      "['bangalore', 'pune', '8', 9, 10, 30, 50, 12]\n",
      "[1, 2, 3, 4.0, 5, '5']\n",
      "[1, 2, 3, 4.0, 5, '5', 'string', [100, 200, 300, 400, 500], 'bangalore', 'pune', '8', 9, 10, 30, 50, 12]\n",
      "[300, 400]\n"
     ]
    }
   ],
   "source": [
    "print(mylist[8:])  #['bangalore', 'pune', '8', 9, 10, 30, 50, 12]\n",
    "print(mylist[:6])  #[1, 2, 3, 4.0, 5, '5',]\n",
    "print(mylist[:])   # whole list will be returned\n",
    "print(mylist[7][2:4])"
   ]
  },
  {
   "cell_type": "code",
   "execution_count": 19,
   "metadata": {},
   "outputs": [
    {
     "name": "stdout",
     "output_type": "stream",
     "text": [
      "12\n",
      "50\n",
      "[100, 200, 300, 400, 500]\n"
     ]
    }
   ],
   "source": [
    "## negative indexing\n",
    "\n",
    "print(mylist[-1])\n",
    "print(mylist[-2])\n",
    "print(mylist[-9])"
   ]
  },
  {
   "cell_type": "code",
   "execution_count": 17,
   "metadata": {},
   "outputs": [
    {
     "data": {
      "text/plain": [
       "16"
      ]
     },
     "execution_count": 17,
     "metadata": {},
     "output_type": "execute_result"
    }
   ],
   "source": [
    "## len()\n",
    "len(mylist)  # returns length of the list"
   ]
  },
  {
   "cell_type": "code",
   "execution_count": 4,
   "metadata": {},
   "outputs": [
    {
     "name": "stdout",
     "output_type": "stream",
     "text": [
      "[1, 2, 3, 4.0, 5, '5', 'string', [100, 200, 300, 400, 500], 'bangalore', 'pune', '8', 9, 10, 30, 50, 12]\n"
     ]
    }
   ],
   "source": [
    "print(mylist)"
   ]
  },
  {
   "cell_type": "code",
   "execution_count": 25,
   "metadata": {},
   "outputs": [
    {
     "name": "stdout",
     "output_type": "stream",
     "text": [
      "['8', 9, 10, 30, 50, 12]\n",
      "['8', 9, 10, 30, 50, 12]\n",
      "['8', 9, 10, 30, 50]\n"
     ]
    }
   ],
   "source": [
    "print(mylist[10:])  #positive slicing\n",
    "print(mylist[-6:])  #negative slicing\n",
    "print(mylist[-6:-1])"
   ]
  },
  {
   "cell_type": "code",
   "execution_count": 5,
   "metadata": {},
   "outputs": [
    {
     "name": "stdout",
     "output_type": "stream",
     "text": [
      "300\n",
      "300\n",
      "300\n",
      "300\n"
     ]
    }
   ],
   "source": [
    "# possible ways to extract 300 from the list\n",
    "\n",
    "print(mylist[7][2])\n",
    "print(mylist[7][-3])\n",
    "print(mylist[-9][2])\n",
    "print(mylist[-9][-3])"
   ]
  },
  {
   "cell_type": "code",
   "execution_count": 6,
   "metadata": {},
   "outputs": [
    {
     "data": {
      "text/plain": [
       "8"
      ]
     },
     "execution_count": 6,
     "metadata": {},
     "output_type": "execute_result"
    }
   ],
   "source": [
    "mylist.index('bangalore')   # to get index of any element"
   ]
  },
  {
   "cell_type": "code",
   "execution_count": null,
   "metadata": {},
   "outputs": [],
   "source": []
  }
 ],
 "metadata": {
  "kernelspec": {
   "display_name": "Python 3",
   "language": "python",
   "name": "python3"
  },
  "language_info": {
   "codemirror_mode": {
    "name": "ipython",
    "version": 3
   },
   "file_extension": ".py",
   "mimetype": "text/x-python",
   "name": "python",
   "nbconvert_exporter": "python",
   "pygments_lexer": "ipython3",
   "version": "3.8.3"
  }
 },
 "nbformat": 4,
 "nbformat_minor": 4
}
