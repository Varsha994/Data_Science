{
 "cells": [
  {
   "cell_type": "markdown",
   "metadata": {},
   "source": [
    "#### Regular Expression\n",
    "      - powerful manipulation tool\n",
    "      - all modern languages have similar library packages for regular expressions\n",
    "      - used to\n",
    "          - search a string\n",
    "          - repalce parts of a string\n",
    "          - break strings into smaller pieces"
   ]
  },
  {
   "cell_type": "code",
   "execution_count": 1,
   "metadata": {},
   "outputs": [],
   "source": [
    "import re  #provides powerful tools"
   ]
  },
  {
   "cell_type": "code",
   "execution_count": null,
   "metadata": {},
   "outputs": [],
   "source": [
    "#re.search(), re.match(), re.findall(), re.sub(), re.split(), re.compile()\n",
    "\n",
    "# we can search omly which has some kind of pattern"
   ]
  },
  {
   "cell_type": "code",
   "execution_count": 4,
   "metadata": {},
   "outputs": [
    {
     "name": "stdout",
     "output_type": "stream",
     "text": [
      "Found!\n",
      "Not Found!\n"
     ]
    }
   ],
   "source": [
    "if re.search(pattern =\"red\", string = 'All flowers are red.'):\n",
    "    print('Found!')\n",
    "else:\n",
    "    print('Not Found!')\n",
    "\n",
    "if re.match(pattern =\"red\", string = 'All flowers are red.'):\n",
    "    print('Found!')\n",
    "else:\n",
    "    print('Not Found!')\n",
    "    "
   ]
  },
  {
   "cell_type": "code",
   "execution_count": 5,
   "metadata": {},
   "outputs": [
    {
     "name": "stdout",
     "output_type": "stream",
     "text": [
      "Found!\n",
      "Found!\n"
     ]
    }
   ],
   "source": [
    "if re.search(pattern =\"All\", string = 'All flowers are red.'):\n",
    "    print('Found!')\n",
    "else:\n",
    "    print('Not Found!')\n",
    "\n",
    "if re.match(pattern =\"All\", string = 'All flowers are red.'):\n",
    "    print('Found!')\n",
    "else:\n",
    "    print('Not Found!')"
   ]
  },
  {
   "cell_type": "code",
   "execution_count": 7,
   "metadata": {},
   "outputs": [
    {
     "name": "stdout",
     "output_type": "stream",
     "text": [
      "Found!\n",
      "Found!\n"
     ]
    }
   ],
   "source": [
    "if re.search(pattern =\"all\", string = 'All flowers are red.',flags= re.I): #re.I will ignore case\n",
    "    print('Found!')\n",
    "else:\n",
    "    print('Not Found!')\n",
    "\n",
    "if re.match(pattern =\"all\", string = 'All flowers are red.',flags= re.I):\n",
    "    print('Found!')\n",
    "else:\n",
    "    print('Not Found!')"
   ]
  },
  {
   "cell_type": "code",
   "execution_count": 11,
   "metadata": {},
   "outputs": [
    {
     "data": {
      "text/plain": [
       "'All cars are blue but all the bikes are black'"
      ]
     },
     "execution_count": 11,
     "metadata": {},
     "output_type": "execute_result"
    }
   ],
   "source": [
    "# re.sub():\n",
    "\n",
    "str1 = \"All cars are blue but all the bikes are red\"\n",
    "## replace 'blue' and 'red' with 'black'\n",
    "re.sub(pattern= \"red\", repl=\"black\",string = str1)  # only red will be replaced"
   ]
  },
  {
   "cell_type": "code",
   "execution_count": 12,
   "metadata": {},
   "outputs": [
    {
     "data": {
      "text/plain": [
       "'All cars are black but all the bikes are black'"
      ]
     },
     "execution_count": 12,
     "metadata": {},
     "output_type": "execute_result"
    }
   ],
   "source": [
    "re.sub(pattern= \"(red|blue)\", repl=\"black\",string = str1)"
   ]
  },
  {
   "cell_type": "code",
   "execution_count": 15,
   "metadata": {},
   "outputs": [
    {
     "data": {
      "text/plain": [
       "'All cars are black but all the bikes are black black black'"
      ]
     },
     "execution_count": 15,
     "metadata": {},
     "output_type": "execute_result"
    }
   ],
   "source": [
    "str1 = \"All cars are blue but all the bikes are RED RED RED\"\n",
    "re.sub(pattern= \"(red|blue)\", repl=\"black\",string = str1, flags=re.I, count = 4)"
   ]
  },
  {
   "cell_type": "code",
   "execution_count": 16,
   "metadata": {},
   "outputs": [
    {
     "data": {
      "text/plain": [
       "['All',\n",
       " 'cars',\n",
       " 'are',\n",
       " 'blue',\n",
       " 'but',\n",
       " 'all',\n",
       " 'the',\n",
       " 'bikes',\n",
       " 'are',\n",
       " 'Red',\n",
       " 'Red',\n",
       " 'Red']"
      ]
     },
     "execution_count": 16,
     "metadata": {},
     "output_type": "execute_result"
    }
   ],
   "source": [
    "# re.split():\n",
    "str1 = \"All cars are blue but all the bikes are Red Red Red\"\n",
    "re.split(pattern= ' ',string=str1)"
   ]
  },
  {
   "cell_type": "code",
   "execution_count": 17,
   "metadata": {},
   "outputs": [
    {
     "data": {
      "text/plain": [
       "['All', 'cars', 'are', 'blue but all the bikes are Red Red Red']"
      ]
     },
     "execution_count": 17,
     "metadata": {},
     "output_type": "execute_result"
    }
   ],
   "source": [
    "str1 = \"All cars are blue but all the bikes are Red Red Red\"\n",
    "re.split(pattern= ' ',string=str1,maxsplit = 3)"
   ]
  },
  {
   "cell_type": "code",
   "execution_count": 18,
   "metadata": {},
   "outputs": [
    {
     "data": {
      "text/plain": [
       "['This is ', 'time different from ', 'times']"
      ]
     },
     "execution_count": 18,
     "metadata": {},
     "output_type": "execute_result"
    }
   ],
   "source": [
    "str1 = \"This is 1 time different from 2 times\"\n",
    "re.split(pattern= '\\d+ ',string=str1,maxsplit = 0)"
   ]
  },
  {
   "cell_type": "code",
   "execution_count": 20,
   "metadata": {},
   "outputs": [
    {
     "data": {
      "text/plain": [
       "['his', 'is', 'time', 'different', 'from', 'times']"
      ]
     },
     "execution_count": 20,
     "metadata": {},
     "output_type": "execute_result"
    }
   ],
   "source": [
    "# re.findall()\n",
    "\n",
    "str1 = \"This is 12 time different from 42 times\"\n",
    "##find digits\n",
    "re.findall(pattern= '[a-z]+',string=str1)"
   ]
  },
  {
   "cell_type": "code",
   "execution_count": 21,
   "metadata": {},
   "outputs": [
    {
     "data": {
      "text/plain": [
       "['i', 'i', 'i', 'e', 'i', 'e', 'e', 'o', 'i', 'e']"
      ]
     },
     "execution_count": 21,
     "metadata": {},
     "output_type": "execute_result"
    }
   ],
   "source": [
    "str1 = \"This is 12 time different from 42 times\"\n",
    "##find digits\n",
    "re.findall(pattern= '(a|e|i|o|u)',string=str1)"
   ]
  },
  {
   "cell_type": "code",
   "execution_count": 24,
   "metadata": {},
   "outputs": [
    {
     "name": "stdout",
     "output_type": "stream",
     "text": [
      "Enter your mobile number: 54 54 5546 \n",
      "Correct number!\n"
     ]
    }
   ],
   "source": [
    "## WAL to validate mobile number.\n",
    "\n",
    "mobile_num= input(\"Enter your mobile number: \")\n",
    "if re.search(pattern=\"\\d+\",string= mobile_num):\n",
    "    print(\"Correct number!\")\n",
    "else:\n",
    "    print(\"Incorrect number!\")\n",
    "    "
   ]
  },
  {
   "cell_type": "code",
   "execution_count": 27,
   "metadata": {},
   "outputs": [
    {
     "name": "stdout",
     "output_type": "stream",
     "text": [
      "Valid number!\n",
      "Invalid number!\n",
      "Invalid number!\n"
     ]
    }
   ],
   "source": [
    "for mn in ['7470935007','747093500934778','7470935']:\n",
    "    if re.search(pattern=\"^\\d{10}$\",string= mn):  # checking for 10 digit number\n",
    "        print(\"Valid number!\")\n",
    "    else:\n",
    "        print(\"Invalid number!\")\n",
    "    "
   ]
  },
  {
   "cell_type": "code",
   "execution_count": 29,
   "metadata": {},
   "outputs": [
    {
     "name": "stdout",
     "output_type": "stream",
     "text": [
      "Invalid number!\n",
      "Invalid number!\n",
      "Valid number!\n"
     ]
    }
   ],
   "source": [
    "for mn in ['7470935007','+917470935004','+91-7470935006']:   #rewatch\n",
    "    if re.search(pattern=\"^(\\+91)-\\d{10}$\",string= mn):   \n",
    "        print(\"Valid number!\")\n",
    "    else:\n",
    "        print(\"Invalid number!\")"
   ]
  },
  {
   "cell_type": "code",
   "execution_count": null,
   "metadata": {},
   "outputs": [],
   "source": [
    "## WAL to validate email\n",
    "# (user_name)@gmail.com\n",
    "# -- alphabets"
   ]
  },
  {
   "cell_type": "code",
   "execution_count": 33,
   "metadata": {},
   "outputs": [
    {
     "name": "stdout",
     "output_type": "stream",
     "text": [
      "Valid EmailID !\n",
      "Invalid EmailID !\n",
      "Valid EmailID !\n",
      "Invalid EmailID !\n"
     ]
    }
   ],
   "source": [
    "# this will return valid usernames for alphanumeric(numeric is optional)\n",
    "\n",
    "for mn in ['abc@gmail.com','abc@gmail.comm','abc1@gmail.com','abc@yahoo.com']:   \n",
    "    if re.search(pattern=\"^[a-zA-Z0-9]+@gmail.com$\",string= mn):   \n",
    "        print(\"Valid EmailID !\")\n",
    "    else:\n",
    "        print(\"Invalid EmailID !\")"
   ]
  },
  {
   "cell_type": "code",
   "execution_count": 34,
   "metadata": {},
   "outputs": [
    {
     "name": "stdout",
     "output_type": "stream",
     "text": [
      "Invalid EmailID !\n",
      "Invalid EmailID !\n",
      "Valid EmailID !\n",
      "Invalid EmailID !\n",
      "Valid EmailID !\n",
      "Invalid EmailID !\n"
     ]
    }
   ],
   "source": [
    "#Numeric is mandatory, no check for underscore\n",
    "\n",
    "for mn in ['abc@gmail.com','abc@gmail.comm','abc1@gmail.com','abc@yahoo.com','ABC1@gmail.com','abc_4@gmail.com']:   \n",
    "    if re.search(pattern=\"^[a-zA-Z]+[0-9]+@gmail.com$\",string= mn):   \n",
    "        print(\"Valid EmailID !\")\n",
    "    else:\n",
    "        print(\"Invalid EmailID !\")"
   ]
  },
  {
   "cell_type": "code",
   "execution_count": 35,
   "metadata": {},
   "outputs": [
    {
     "name": "stdout",
     "output_type": "stream",
     "text": [
      "Invalid EmailID !\n",
      "Valid EmailID !\n"
     ]
    }
   ],
   "source": [
    "# above program with check with underscore too\n",
    "\n",
    "for mn in ['abc__2@gmail.com','abc_4@gmail.com']:   \n",
    "    if re.search(pattern=\"^[a-zA-Z]+_?[0-9]+@gmail.com$\",string= mn):   # check only for 1 undercore\n",
    "        print(\"Valid EmailID !\")\n",
    "    else:\n",
    "        print(\"Invalid EmailID !\")"
   ]
  },
  {
   "cell_type": "code",
   "execution_count": 38,
   "metadata": {},
   "outputs": [
    {
     "name": "stdout",
     "output_type": "stream",
     "text": [
      "Invalid EmailID !\n",
      "Valid EmailID !\n"
     ]
    }
   ],
   "source": [
    "# for digits in first place and with dot\n",
    "\n",
    "for mn in ['abc_4@gmail.com','abc.8@gmail.com']:   \n",
    "    if re.search(pattern=\"^[a-zA-Z]+[/.]?[0-9]+@gmail.com$\",string= mn):   \n",
    "        print(\"Valid EmailID !\")\n",
    "    else:\n",
    "        print(\"Invalid EmailID !\")"
   ]
  },
  {
   "cell_type": "code",
   "execution_count": 39,
   "metadata": {},
   "outputs": [
    {
     "name": "stdout",
     "output_type": "stream",
     "text": [
      "Valid EmailID !\n",
      "Invalid EmailID !\n",
      "Valid EmailID !\n"
     ]
    }
   ],
   "source": [
    "for mn in ['abc_4@gmail.com','abc.c@gmail.com','ABC.53@xyz.org']:   \n",
    "    if re.search(pattern=\"^[a-zA-Z]+[\\.|_]?[1-9]*@[a-z]+.(com|org|net)$\",string= mn):   \n",
    "        print(\"Valid EmailID !\")\n",
    "    else:\n",
    "        print(\"Invalid EmailID !\")"
   ]
  },
  {
   "cell_type": "code",
   "execution_count": null,
   "metadata": {},
   "outputs": [],
   "source": [
    "## Summary of meanings of notation:\n",
    "? => 0 or 1 \n",
    "* => 0 or many\n",
    "+ =>1 or many\n",
    "a* => '', 'a','aa','aaa'\n",
    "a+ => 'a','aa','aaa'\n",
    "a? => '','a'"
   ]
  },
  {
   "cell_type": "code",
   "execution_count": null,
   "metadata": {},
   "outputs": [],
   "source": []
  },
  {
   "cell_type": "code",
   "execution_count": 41,
   "metadata": {},
   "outputs": [
    {
     "name": "stdout",
     "output_type": "stream",
     "text": [
      "matched\n"
     ]
    }
   ],
   "source": [
    "if re.search(r'\\bain', string = \"it is rain ain\"):\n",
    "    print(\"matched\")\n",
    "else:\n",
    "    print(\"not matched\")"
   ]
  },
  {
   "cell_type": "code",
   "execution_count": 44,
   "metadata": {},
   "outputs": [
    {
     "data": {
      "text/plain": [
       "['ain', 'ain', 'aim', 'anm', 'ann', 'atp']"
      ]
     },
     "execution_count": 44,
     "metadata": {},
     "output_type": "execute_result"
    }
   ],
   "source": [
    "re.findall(pattern='a..',string = \"it is rain ain aim anm ann bmm atpkf\") # 2 dots is 2 characters it can take after a"
   ]
  },
  {
   "cell_type": "markdown",
   "metadata": {},
   "source": [
    "1. Regular expression website link (url) match\n",
    "http://www.<string>.com\n",
    "2. Regular expression for date matching: [MM/DD/YYYY], [mmm-dd-yy]"
   ]
  },
  {
   "cell_type": "code",
   "execution_count": null,
   "metadata": {},
   "outputs": [],
   "source": []
  }
 ],
 "metadata": {
  "kernelspec": {
   "display_name": "Python 3",
   "language": "python",
   "name": "python3"
  },
  "language_info": {
   "codemirror_mode": {
    "name": "ipython",
    "version": 3
   },
   "file_extension": ".py",
   "mimetype": "text/x-python",
   "name": "python",
   "nbconvert_exporter": "python",
   "pygments_lexer": "ipython3",
   "version": "3.8.3"
  }
 },
 "nbformat": 4,
 "nbformat_minor": 4
}
