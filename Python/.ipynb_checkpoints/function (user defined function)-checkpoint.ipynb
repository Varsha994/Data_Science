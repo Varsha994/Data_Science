{
 "cells": [
  {
   "cell_type": "code",
   "execution_count": 1,
   "metadata": {},
   "outputs": [
    {
     "name": "stdout",
     "output_type": "stream",
     "text": [
      "\n",
      "5\n"
     ]
    },
    {
     "data": {
      "text/plain": [
       "['abc', 'bcd']"
      ]
     },
     "execution_count": 1,
     "metadata": {},
     "output_type": "execute_result"
    }
   ],
   "source": [
    "print()\n",
    "sum([2,3,4,6])\n",
    "input()\n",
    "'abc bcd'.split()"
   ]
  },
  {
   "cell_type": "code",
   "execution_count": 2,
   "metadata": {},
   "outputs": [
    {
     "data": {
      "text/plain": [
       "1"
      ]
     },
     "execution_count": 2,
     "metadata": {},
     "output_type": "execute_result"
    }
   ],
   "source": [
    "sum([1])"
   ]
  },
  {
   "cell_type": "code",
   "execution_count": 3,
   "metadata": {},
   "outputs": [
    {
     "data": {
      "text/plain": [
       "3"
      ]
     },
     "execution_count": 3,
     "metadata": {},
     "output_type": "execute_result"
    }
   ],
   "source": [
    "sum([1,2])"
   ]
  },
  {
   "cell_type": "code",
   "execution_count": 4,
   "metadata": {},
   "outputs": [
    {
     "data": {
      "text/plain": [
       "15"
      ]
     },
     "execution_count": 4,
     "metadata": {},
     "output_type": "execute_result"
    }
   ],
   "source": [
    "sum([2,3,4,6])"
   ]
  },
  {
   "cell_type": "code",
   "execution_count": 5,
   "metadata": {},
   "outputs": [
    {
     "data": {
      "text/plain": [
       "'_ is going to the school. _ stays nearby. _ _ _'"
      ]
     },
     "execution_count": 5,
     "metadata": {},
     "output_type": "execute_result"
    }
   ],
   "source": [
    "\"She is going to the school. She stays nearby. She She She\".replace('She','_')"
   ]
  },
  {
   "cell_type": "code",
   "execution_count": 6,
   "metadata": {},
   "outputs": [
    {
     "data": {
      "text/plain": [
       "'_ is going to the school. _ stays nearby. _ She She'"
      ]
     },
     "execution_count": 6,
     "metadata": {},
     "output_type": "execute_result"
    }
   ],
   "source": [
    "\"She is going to the school. She stays nearby. She She She\".replace('She','_',3)"
   ]
  },
  {
   "cell_type": "code",
   "execution_count": 7,
   "metadata": {},
   "outputs": [],
   "source": [
    "# 1. taking input from users (1)\n",
    "# 2. validate the inputs (5)\n",
    "# 3. add of the numbers (1)\n",
    "\n",
    "\n",
    "# 70 lines of the code\n",
    "\n",
    "# 9 * 7 = 63 lines "
   ]
  },
  {
   "cell_type": "code",
   "execution_count": 8,
   "metadata": {},
   "outputs": [
    {
     "name": "stdout",
     "output_type": "stream",
     "text": [
      "Hello World!\n",
      "Hello World!\n",
      "Hello World!\n",
      "Hello World.\n",
      "Hello World.\n",
      "Hello World.\n",
      "Hello World.\n",
      "Hello World.\n"
     ]
    }
   ],
   "source": [
    "print('Hello World!')\n",
    "print('Hello World!')\n",
    "print('Hello World!')\n",
    "print('Hello World.')\n",
    "print('Hello World.')\n",
    "print('Hello World.')\n",
    "print('Hello World.')\n",
    "print('Hello World.')"
   ]
  },
  {
   "cell_type": "code",
   "execution_count": 9,
   "metadata": {},
   "outputs": [],
   "source": [
    "# \"Hello world\".upper()"
   ]
  },
  {
   "cell_type": "markdown",
   "metadata": {},
   "source": [
    "###### advantage of function\n",
    "    - Reduce redundancy\n",
    "    - function can be tested indepedently\n",
    "    - code management is easy\n",
    "    - overall, improve in readeability "
   ]
  },
  {
   "cell_type": "markdown",
   "metadata": {},
   "source": [
    "    There are two types of UDF: \n",
    "        1) Named functions\n",
    "        2) lambda functions/anonymous function"
   ]
  },
  {
   "cell_type": "code",
   "execution_count": 10,
   "metadata": {},
   "outputs": [],
   "source": [
    "# ### synatx of UDF named  function\n",
    "# def <function_name>(<(parameters)>):\n",
    "#     <body of the function>\n",
    "#     return <items>\n",
    "\n",
    "# ### Note: parameters and return are optional to the function"
   ]
  },
  {
   "cell_type": "code",
   "execution_count": 11,
   "metadata": {},
   "outputs": [],
   "source": [
    "### print \"message\" 10 times\n",
    "### function defination\n",
    "def greet():\n",
    "    '''This function greets everyone. '''\n",
    "    print('Hello World!')"
   ]
  },
  {
   "cell_type": "code",
   "execution_count": 12,
   "metadata": {},
   "outputs": [
    {
     "name": "stdout",
     "output_type": "stream",
     "text": [
      "Hello World!\n",
      "Hello World!\n",
      "Hello World!\n",
      "Hello World!\n",
      "Hello World!\n",
      "Hello World!\n"
     ]
    }
   ],
   "source": [
    "greet() ## function call\n",
    "greet() \n",
    "greet() \n",
    "greet() \n",
    "greet() \n",
    "greet() "
   ]
  },
  {
   "cell_type": "markdown",
   "metadata": {},
   "source": [
    "Types of functions:\n",
    "    - A function with no argument\n",
    "    - A function with an agrument\n",
    "    - A function with multiple agruments\n",
    "    - A function with default arguments\n",
    "    - A function with none-keyworded dynamic arguments\n",
    "    - A function with keyworded dynamic arguments"
   ]
  },
  {
   "cell_type": "code",
   "execution_count": 13,
   "metadata": {},
   "outputs": [],
   "source": [
    "def greet():\n",
    "    '''This function greets everyone. '''\n",
    "    print('Hello World!')"
   ]
  },
  {
   "cell_type": "code",
   "execution_count": 14,
   "metadata": {},
   "outputs": [
    {
     "name": "stdout",
     "output_type": "stream",
     "text": [
      "Hello World!\n"
     ]
    }
   ],
   "source": [
    "greet()"
   ]
  },
  {
   "cell_type": "code",
   "execution_count": 15,
   "metadata": {},
   "outputs": [],
   "source": [
    "def greet(string): # example of a function with an agrument\n",
    "    print('Hello '+ string + '!')"
   ]
  },
  {
   "cell_type": "code",
   "execution_count": 16,
   "metadata": {},
   "outputs": [
    {
     "name": "stdout",
     "output_type": "stream",
     "text": [
      "Hello Rageeni!\n",
      "Hello Rageeni!\n"
     ]
    }
   ],
   "source": [
    "greet(\"Rageeni\")\n",
    "greet(string = \"Rageeni\")"
   ]
  },
  {
   "cell_type": "code",
   "execution_count": 17,
   "metadata": {},
   "outputs": [
    {
     "name": "stdout",
     "output_type": "stream",
     "text": [
      "Enter your name: peter\n",
      "Hello peter!\n"
     ]
    }
   ],
   "source": [
    "greet(input('Enter your name: '))"
   ]
  },
  {
   "cell_type": "code",
   "execution_count": 18,
   "metadata": {},
   "outputs": [],
   "source": [
    "def swap(n1,n2):\n",
    "    print('Before swap: n1 = {} and n2 = {}'.format(n1,n2))\n",
    "    t = n1\n",
    "    n1 = n2\n",
    "    n2 = t\n",
    "    print('After swap: n1 = {} and n2 = {}'.format(n1,n2))"
   ]
  },
  {
   "cell_type": "code",
   "execution_count": 19,
   "metadata": {},
   "outputs": [
    {
     "name": "stdout",
     "output_type": "stream",
     "text": [
      "Before swap: n1 = 3 and n2 = 4\n",
      "After swap: n1 = 4 and n2 = 3\n"
     ]
    }
   ],
   "source": [
    "swap(3,4)"
   ]
  },
  {
   "cell_type": "code",
   "execution_count": 20,
   "metadata": {},
   "outputs": [
    {
     "name": "stdout",
     "output_type": "stream",
     "text": [
      "Before swap: n1 = 5 and n2 = 6\n",
      "After swap: n1 = 6 and n2 = 5\n",
      "Before swap: n1 = 5 and n2 = 6\n",
      "After swap: n1 = 6 and n2 = 5\n",
      "Before swap: n1 = 6 and n2 = 5\n",
      "After swap: n1 = 5 and n2 = 6\n",
      "Before swap: n1 = 5 and n2 = 7\n",
      "After swap: n1 = 7 and n2 = 5\n",
      "Before swap: n1 = str1 and n2 = str2\n",
      "After swap: n1 = str2 and n2 = str1\n"
     ]
    }
   ],
   "source": [
    "## valid ways of calling a function\n",
    "swap(5,6)\n",
    "swap(n1 = 5, n2 = 6)\n",
    "swap(n2 = 5, n1 = 6)\n",
    "swap(5, n2 = 7)\n",
    "swap('str1','str2')"
   ]
  },
  {
   "cell_type": "code",
   "execution_count": 21,
   "metadata": {},
   "outputs": [],
   "source": [
    "## invalid ways of calling a function\n",
    "# swap(n1 = 5, 6)\n",
    "# swap(5, n1 = 6)"
   ]
  },
  {
   "cell_type": "code",
   "execution_count": 22,
   "metadata": {},
   "outputs": [],
   "source": [
    "def add(n1=0, n2=0):\n",
    "    print('Sum of {} and {} = {}'.format(n1,n2,n1+n2))"
   ]
  },
  {
   "cell_type": "code",
   "execution_count": 23,
   "metadata": {},
   "outputs": [
    {
     "name": "stdout",
     "output_type": "stream",
     "text": [
      "Sum of 5 and 0 = 5\n",
      "Sum of 3 and -7 = -4\n",
      "Sum of 0 and 0 = 0\n"
     ]
    }
   ],
   "source": [
    "add(5)\n",
    "add(3,-7)\n",
    "add()"
   ]
  },
  {
   "cell_type": "code",
   "execution_count": 24,
   "metadata": {},
   "outputs": [],
   "source": [
    "def greet(string): # example of a function with an agrument\n",
    "    print('Hello '+ string + '!')\n",
    "#     pass"
   ]
  },
  {
   "cell_type": "code",
   "execution_count": 25,
   "metadata": {},
   "outputs": [
    {
     "name": "stdout",
     "output_type": "stream",
     "text": [
      "Hello Rageeni!\n",
      "None\n"
     ]
    }
   ],
   "source": [
    "# greet('Rageeni')\n",
    "print(greet('Rageeni'))"
   ]
  },
  {
   "cell_type": "code",
   "execution_count": 26,
   "metadata": {},
   "outputs": [],
   "source": [
    "def greet(string = \"Everyone\"): # example of a function with an agrument and returning a value\n",
    "    return 'Hello '+ string + '!' "
   ]
  },
  {
   "cell_type": "code",
   "execution_count": 27,
   "metadata": {},
   "outputs": [
    {
     "name": "stdout",
     "output_type": "stream",
     "text": [
      "Hello Everyone!\n",
      "Hello Jack!\n"
     ]
    }
   ],
   "source": [
    "print(greet())\n",
    "print(greet('Jack'))"
   ]
  },
  {
   "cell_type": "markdown",
   "metadata": {},
   "source": [
    "1. WAF to add 3 integers and take following actions based on function return\n",
    "    - print('< 10') if sum < 10\n",
    "    - else print('>=  10')\n",
    "2. WAF to add 10 integers.\n",
    "3. WAF to add 50 integers."
   ]
  },
  {
   "cell_type": "code",
   "execution_count": 28,
   "metadata": {},
   "outputs": [
    {
     "name": "stdout",
     "output_type": "stream",
     "text": [
      "Enter 3 integers: 3 4 5\n",
      "Sum > 10\n"
     ]
    }
   ],
   "source": [
    "# 1. WAF to add 3 integers and take following actions based on function return\n",
    "# print('< 10') if sum < 10\n",
    "# else print('>= 10')\n",
    "\n",
    "## function defination \n",
    "def add_3(n1,n2,n3):\n",
    "    return n1+n2+n3\n",
    "\n",
    "# read user inputs\n",
    "vals = input('Enter 3 integers: ').split(' ')\n",
    "vals = [int(each) for each in vals]\n",
    "if add_3(vals[0],vals[1],vals[2]) > 10:\n",
    "    print('Sum > 10')\n",
    "else:\n",
    "    print('Sum <= 10')"
   ]
  },
  {
   "cell_type": "code",
   "execution_count": 29,
   "metadata": {},
   "outputs": [],
   "source": [
    "### example of a function wth dynamic number of agruments (a function none-keyworded arguments)\n",
    "def add(* param):\n",
    "    return sum(param)"
   ]
  },
  {
   "cell_type": "code",
   "execution_count": 30,
   "metadata": {},
   "outputs": [
    {
     "name": "stdout",
     "output_type": "stream",
     "text": [
      "0\n",
      "1\n",
      "3\n",
      "6\n",
      "21\n"
     ]
    }
   ],
   "source": [
    "print(add())\n",
    "print(add(1))\n",
    "print(add(1,2))\n",
    "print(add(1,2,3))\n",
    "print(add(1,2,3,4,5,6))"
   ]
  },
  {
   "cell_type": "code",
   "execution_count": 31,
   "metadata": {},
   "outputs": [],
   "source": [
    "## a function with keyworded agruments\n",
    "def display(** param):\n",
    "    print(param)"
   ]
  },
  {
   "cell_type": "code",
   "execution_count": 32,
   "metadata": {},
   "outputs": [
    {
     "name": "stdout",
     "output_type": "stream",
     "text": [
      "{'a': 1, 'b': 3, 'c': 4}\n"
     ]
    }
   ],
   "source": [
    "display(a = 1, b = 3,c = 4 )"
   ]
  },
  {
   "cell_type": "markdown",
   "metadata": {},
   "source": [
    "1. WAF to find factorial of a positive integer.\n",
    "2. WAF to simulate basic calculator. def calculator(n1,n2,op):"
   ]
  },
  {
   "cell_type": "code",
   "execution_count": 33,
   "metadata": {},
   "outputs": [],
   "source": [
    "# WAF to find factorial of a positive integer.\n",
    "def factorial(n):\n",
    "    if n < 0 :\n",
    "        return -1\n",
    "    else:\n",
    "        if n == 0 | n== 1:\n",
    "            return 1\n",
    "        else:\n",
    "            fac = 1\n",
    "            while n > 0:\n",
    "                fac*= n\n",
    "                n -= 1\n",
    "            return fac    "
   ]
  },
  {
   "cell_type": "code",
   "execution_count": 34,
   "metadata": {},
   "outputs": [
    {
     "name": "stdout",
     "output_type": "stream",
     "text": [
      "1\n",
      "1\n",
      "120\n",
      "24\n",
      "-1\n"
     ]
    }
   ],
   "source": [
    "print(factorial(0))\n",
    "print(factorial(1))\n",
    "print(factorial(5))\n",
    "print(factorial(4))\n",
    "print(factorial(-4))"
   ]
  },
  {
   "cell_type": "code",
   "execution_count": 35,
   "metadata": {},
   "outputs": [],
   "source": [
    "# WAF to find factorial of a positive integer.\n",
    "def factorial_r(n):\n",
    "    if n < 0 :\n",
    "        return -1\n",
    "    else:\n",
    "        if n == 0 | n== 1:\n",
    "            return 1\n",
    "        else:\n",
    "            return n*factorial_r(n-1)  "
   ]
  },
  {
   "cell_type": "code",
   "execution_count": 36,
   "metadata": {},
   "outputs": [],
   "source": [
    "# n = 4\n",
    "# 4*factorial_r(3)\n",
    "# 4*3*factorial_r(2)\n",
    "# 4*3*2factorial_r(1)\n",
    "# 4*3*2*1 = 24"
   ]
  },
  {
   "cell_type": "code",
   "execution_count": 37,
   "metadata": {},
   "outputs": [
    {
     "name": "stdout",
     "output_type": "stream",
     "text": [
      "0\n",
      "1\n",
      "120\n",
      "24\n",
      "-1\n"
     ]
    }
   ],
   "source": [
    "print(factorial_r(0))\n",
    "print(factorial_r(1))\n",
    "print(factorial_r(5))\n",
    "print(factorial_r(4))\n",
    "print(factorial_r(-4))"
   ]
  },
  {
   "cell_type": "code",
   "execution_count": 38,
   "metadata": {},
   "outputs": [],
   "source": [
    "### lambda function/expression/anonymous function\n",
    "## syntax:\n",
    "# lambda arguments:output_expression"
   ]
  },
  {
   "cell_type": "code",
   "execution_count": 39,
   "metadata": {},
   "outputs": [
    {
     "data": {
      "text/plain": [
       "7"
      ]
     },
     "execution_count": 39,
     "metadata": {},
     "output_type": "execute_result"
    }
   ],
   "source": [
    "def add(n1,n2):\n",
    "    return n1+n2\n",
    "add(3,4)"
   ]
  },
  {
   "cell_type": "code",
   "execution_count": 40,
   "metadata": {},
   "outputs": [
    {
     "data": {
      "text/plain": [
       "7"
      ]
     },
     "execution_count": 40,
     "metadata": {},
     "output_type": "execute_result"
    }
   ],
   "source": [
    "s = lambda n1,n2:n1+n2\n",
    "s(3,4)"
   ]
  },
  {
   "cell_type": "code",
   "execution_count": 41,
   "metadata": {},
   "outputs": [
    {
     "data": {
      "text/plain": [
       "18"
      ]
     },
     "execution_count": 41,
     "metadata": {},
     "output_type": "execute_result"
    }
   ],
   "source": [
    "s = lambda *args: sum(args)\n",
    "s(3,4,5,6)"
   ]
  },
  {
   "cell_type": "code",
   "execution_count": 42,
   "metadata": {},
   "outputs": [],
   "source": [
    "# ax + bx + c = y\n",
    "def solve_expression(a,b,c):\n",
    "    return lambda x: a*x+b*x+c"
   ]
  },
  {
   "cell_type": "code",
   "execution_count": 43,
   "metadata": {},
   "outputs": [
    {
     "name": "stdout",
     "output_type": "stream",
     "text": [
      "12\n",
      "19\n",
      "26\n",
      "33\n",
      "40\n",
      "47\n",
      "54\n",
      "61\n",
      "68\n",
      "75\n"
     ]
    }
   ],
   "source": [
    "s = solve_expression(3,4,5)\n",
    "for x in range(1,11):\n",
    "    print(s(x))"
   ]
  },
  {
   "cell_type": "code",
   "execution_count": 44,
   "metadata": {},
   "outputs": [],
   "source": [
    "l = [2,4,5,6,8]\n",
    "# filter out even integers"
   ]
  },
  {
   "cell_type": "markdown",
   "metadata": {},
   "source": [
    "###### filter(), map(), reduce()"
   ]
  },
  {
   "cell_type": "code",
   "execution_count": 45,
   "metadata": {},
   "outputs": [
    {
     "data": {
      "text/plain": [
       "[2, 4, 6, 8, 10]"
      ]
     },
     "execution_count": 45,
     "metadata": {},
     "output_type": "execute_result"
    }
   ],
   "source": [
    "## example of logic to filter even numbers\n",
    "list(filter(lambda x: x%2==0 , range(1,11)))"
   ]
  },
  {
   "cell_type": "code",
   "execution_count": 46,
   "metadata": {},
   "outputs": [
    {
     "data": {
      "text/plain": [
       "(2, 4, 6, 8, 10)"
      ]
     },
     "execution_count": 46,
     "metadata": {},
     "output_type": "execute_result"
    }
   ],
   "source": [
    "tuple(filter(lambda x: x%2==0 , range(1,11)))"
   ]
  },
  {
   "cell_type": "code",
   "execution_count": 47,
   "metadata": {},
   "outputs": [
    {
     "data": {
      "text/plain": [
       "[3, 4, 5, 6, 7, 8, 9, 10, 11, 12]"
      ]
     },
     "execution_count": 47,
     "metadata": {},
     "output_type": "execute_result"
    }
   ],
   "source": [
    "## map(func, iterable)\n",
    "## add a value of 2 to each o fthe integers between 1 to 10\n",
    "list(map(lambda x: x+2, range(1,11)))"
   ]
  },
  {
   "cell_type": "code",
   "execution_count": 48,
   "metadata": {},
   "outputs": [],
   "source": [
    "# input_l = ['male','female','male','male','female','male','male']\n",
    "# output_l = [1,0,1,1,0,1,1]\n",
    "# male -> 1 and female -> 0"
   ]
  },
  {
   "cell_type": "code",
   "execution_count": 49,
   "metadata": {},
   "outputs": [],
   "source": [
    "# input_l = ['male','female','male','male','FEMALE','male','Male']\n",
    "# output_l = [1,0,1,1,0,1,1]\n",
    "# male -> 1 and female -> 0"
   ]
  },
  {
   "cell_type": "code",
   "execution_count": 50,
   "metadata": {},
   "outputs": [
    {
     "data": {
      "text/plain": [
       "[1, 0, 1, 1, 0, 1, 1]"
      ]
     },
     "execution_count": 50,
     "metadata": {},
     "output_type": "execute_result"
    }
   ],
   "source": [
    "input_l = ['male','female','male','male','female','male','male']\n",
    "# output_l = [1,0,1,1,0,1,1]\n",
    "list(map(lambda x: 1 if x == 'male' else 0, input_l))"
   ]
  },
  {
   "cell_type": "code",
   "execution_count": 51,
   "metadata": {},
   "outputs": [
    {
     "data": {
      "text/plain": [
       "[1, 0, 1, 1, 0, 1, 1]"
      ]
     },
     "execution_count": 51,
     "metadata": {},
     "output_type": "execute_result"
    }
   ],
   "source": [
    "input_l = ['male','female','male','male','FEMALE','male','Male']\n",
    "list(map(lambda x: 1 if x.lower() == 'male' else 0, input_l))"
   ]
  },
  {
   "cell_type": "code",
   "execution_count": 52,
   "metadata": {},
   "outputs": [],
   "source": [
    "### reduce()\n",
    "from functools import reduce"
   ]
  },
  {
   "cell_type": "code",
   "execution_count": 53,
   "metadata": {},
   "outputs": [
    {
     "data": {
      "text/plain": [
       "55"
      ]
     },
     "execution_count": 53,
     "metadata": {},
     "output_type": "execute_result"
    }
   ],
   "source": [
    "## \n",
    "reduce(lambda x,y : x+y , range(1,11))"
   ]
  },
  {
   "cell_type": "code",
   "execution_count": 54,
   "metadata": {},
   "outputs": [
    {
     "data": {
      "text/plain": [
       "40"
      ]
     },
     "execution_count": 54,
     "metadata": {},
     "output_type": "execute_result"
    }
   ],
   "source": [
    "# maximum value from [10,40,20,30,23]\n",
    "# max([10,40,20,30,23])\n",
    "reduce(lambda x,y: x if x>y else y, [10,40,20,30,23]) # maximum"
   ]
  },
  {
   "cell_type": "code",
   "execution_count": 55,
   "metadata": {},
   "outputs": [
    {
     "data": {
      "text/plain": [
       "50"
      ]
     },
     "execution_count": 55,
     "metadata": {},
     "output_type": "execute_result"
    }
   ],
   "source": [
    "reduce(lambda x,y: x if x>y else y, [10,40,20,50,20]) # maximum"
   ]
  },
  {
   "cell_type": "code",
   "execution_count": 56,
   "metadata": {},
   "outputs": [],
   "source": [
    "# [10,40,20,50,20]\n",
    "# x = 10; y = 40 # initalisation\n",
    "# x = 40; y = 20\n",
    "# x = 40; y = 50\n",
    "# x = 50; y = 20\n",
    "# maximum_value = 50"
   ]
  },
  {
   "cell_type": "code",
   "execution_count": 57,
   "metadata": {},
   "outputs": [],
   "source": [
    "# [1,2,3,4,5]\n",
    "# x = 1\n",
    "# y = 2\n",
    "# x = 3; y = 3\n",
    "# x = 6; y = 4\n",
    "# x = 10; y = 5\n",
    "# x = 15"
   ]
  },
  {
   "cell_type": "code",
   "execution_count": null,
   "metadata": {},
   "outputs": [],
   "source": []
  },
  {
   "cell_type": "code",
   "execution_count": null,
   "metadata": {},
   "outputs": [],
   "source": []
  },
  {
   "cell_type": "code",
   "execution_count": null,
   "metadata": {},
   "outputs": [],
   "source": []
  },
  {
   "cell_type": "code",
   "execution_count": null,
   "metadata": {},
   "outputs": [],
   "source": []
  }
 ],
 "metadata": {
  "kernelspec": {
   "display_name": "Python 3",
   "language": "python",
   "name": "python3"
  },
  "language_info": {
   "codemirror_mode": {
    "name": "ipython",
    "version": 3
   },
   "file_extension": ".py",
   "mimetype": "text/x-python",
   "name": "python",
   "nbconvert_exporter": "python",
   "pygments_lexer": "ipython3",
   "version": "3.8.3"
  }
 },
 "nbformat": 4,
 "nbformat_minor": 4
}
