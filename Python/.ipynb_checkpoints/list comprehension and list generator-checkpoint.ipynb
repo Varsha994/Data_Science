{
 "cells": [
  {
   "cell_type": "markdown",
   "metadata": {},
   "source": [
    "###### list comprehension\n",
    "- RETURNS list object"
   ]
  },
  {
   "cell_type": "code",
   "execution_count": 1,
   "metadata": {},
   "outputs": [
    {
     "data": {
      "text/plain": [
       "[1, 2, 3, 4, 5, 6, 7, 8, 9, 10]"
      ]
     },
     "execution_count": 1,
     "metadata": {},
     "output_type": "execute_result"
    }
   ],
   "source": [
    "list(range(1,11))"
   ]
  },
  {
   "cell_type": "code",
   "execution_count": 2,
   "metadata": {},
   "outputs": [],
   "source": [
    "## syntax of list comprehension\n",
    "# [<out_expression> for <variable> in <iterables> (<conditional statememnts if any>)]"
   ]
  },
  {
   "cell_type": "markdown",
   "metadata": {},
   "source": [
    " Advantages of using list comprehension\n",
    "        - elegant form of loops \n",
    "        - many lines of code can be summarized by 1 line\n",
    "        - faster than traditional loops"
   ]
  },
  {
   "cell_type": "code",
   "execution_count": 3,
   "metadata": {},
   "outputs": [],
   "source": [
    "## add a value 2 to each item of the list range(1,10)"
   ]
  },
  {
   "cell_type": "code",
   "execution_count": 4,
   "metadata": {},
   "outputs": [
    {
     "data": {
      "text/plain": [
       "[3, 4, 5, 6, 7, 8, 9, 10, 11, 12]"
      ]
     },
     "execution_count": 4,
     "metadata": {},
     "output_type": "execute_result"
    }
   ],
   "source": [
    "# %%timeit\n",
    "o_list = []\n",
    "for each in range(1,11):\n",
    "    o_list.append(each+2)\n",
    "    \n",
    "o_list    "
   ]
  },
  {
   "cell_type": "code",
   "execution_count": 5,
   "metadata": {},
   "outputs": [
    {
     "data": {
      "text/plain": [
       "[3, 4, 5, 6, 7, 8, 9, 10, 11, 12]"
      ]
     },
     "execution_count": 5,
     "metadata": {},
     "output_type": "execute_result"
    }
   ],
   "source": [
    "[each+2 for each in range(1,11)] # list comprehension"
   ]
  },
  {
   "cell_type": "markdown",
   "metadata": {},
   "source": [
    "1. generate a list by squaring integers from 1 : 10\n",
    "2. generate a list of even numbers\n",
    "3. generate a list of square of even numbers.\n",
    "4. generate a list of square of even numbers and square of the odd numbers\n",
    "5. generate a list by this mapping: 'P' if N is positive; 'N' if N is genative else 'Z' N is zero where -10>= N<= 10 "
   ]
  },
  {
   "cell_type": "code",
   "execution_count": 6,
   "metadata": {},
   "outputs": [
    {
     "data": {
      "text/plain": [
       "[1, 4, 9, 16, 25, 36, 49, 64, 81, 100]"
      ]
     },
     "execution_count": 6,
     "metadata": {},
     "output_type": "execute_result"
    }
   ],
   "source": [
    "# generate a list by squaring integers from 1 : 10\n",
    "sq = []\n",
    "for each in range(1,11):\n",
    "    sq.append(each**2)\n",
    "sq    "
   ]
  },
  {
   "cell_type": "code",
   "execution_count": 7,
   "metadata": {},
   "outputs": [
    {
     "data": {
      "text/plain": [
       "[1, 4, 9, 16, 25, 36, 49, 64, 81, 100]"
      ]
     },
     "execution_count": 7,
     "metadata": {},
     "output_type": "execute_result"
    }
   ],
   "source": [
    "sq2 = [each**2 for each in range(1,11)]\n",
    "sq2"
   ]
  },
  {
   "cell_type": "code",
   "execution_count": 8,
   "metadata": {},
   "outputs": [
    {
     "data": {
      "text/plain": [
       "[2, 4, 6, 8, 10]"
      ]
     },
     "execution_count": 8,
     "metadata": {},
     "output_type": "execute_result"
    }
   ],
   "source": [
    "# generate a list of even numbers\n",
    "even = []\n",
    "for each in range(1,11):\n",
    "    if each%2 == 0:\n",
    "        even.append(each)\n",
    "even  "
   ]
  },
  {
   "cell_type": "code",
   "execution_count": 9,
   "metadata": {},
   "outputs": [
    {
     "data": {
      "text/plain": [
       "[2, 4, 6, 8, 10]"
      ]
     },
     "execution_count": 9,
     "metadata": {},
     "output_type": "execute_result"
    }
   ],
   "source": [
    "[each for each in range(1,11) if each%2 == 0]"
   ]
  },
  {
   "cell_type": "code",
   "execution_count": 10,
   "metadata": {},
   "outputs": [
    {
     "data": {
      "text/plain": [
       "[4, 16, 36, 64, 100]"
      ]
     },
     "execution_count": 10,
     "metadata": {},
     "output_type": "execute_result"
    }
   ],
   "source": [
    "# generate a list of square of even numbers.\n",
    "[each**2 for each in range(1,11) if each%2 == 0]"
   ]
  },
  {
   "cell_type": "code",
   "execution_count": 11,
   "metadata": {},
   "outputs": [
    {
     "data": {
      "text/plain": [
       "[1.0,\n",
       " 4,\n",
       " 1.7320508075688772,\n",
       " 16,\n",
       " 2.23606797749979,\n",
       " 36,\n",
       " 2.6457513110645907,\n",
       " 64,\n",
       " 3.0,\n",
       " 100]"
      ]
     },
     "execution_count": 11,
     "metadata": {},
     "output_type": "execute_result"
    }
   ],
   "source": [
    "# generate a list of square of even numbers and square of the odd numbers\n",
    "o_list = []\n",
    "for each in range(1,11):\n",
    "    if each%2 == 0:\n",
    "        o_list.append(each**2)\n",
    "    else:\n",
    "        o_list.append(each**0.5)\n",
    "o_list "
   ]
  },
  {
   "cell_type": "code",
   "execution_count": 12,
   "metadata": {},
   "outputs": [
    {
     "data": {
      "text/plain": [
       "[1.0,\n",
       " 4,\n",
       " 1.7320508075688772,\n",
       " 16,\n",
       " 2.23606797749979,\n",
       " 36,\n",
       " 2.6457513110645907,\n",
       " 64,\n",
       " 3.0,\n",
       " 100]"
      ]
     },
     "execution_count": 12,
     "metadata": {},
     "output_type": "execute_result"
    }
   ],
   "source": [
    "[each**2 if each%2==0 else each**0.5 for each in range(1,11)]"
   ]
  },
  {
   "cell_type": "code",
   "execution_count": 13,
   "metadata": {},
   "outputs": [],
   "source": [
    "# generate a list by this mapping: 'P' if N is positive; 'N' if N is genative else 'Z' N is zero where -10>= N<= 10\n",
    "# [-10,-9,-8...0,...8,9,10]\n",
    "# ['N',\"N\",,,,'Z',....'P',\"P\"]\n",
    "\n",
    "o_list = []\n",
    "for each in range(-10,11):\n",
    "    if each > 0 :\n",
    "        o_list.append('P')\n",
    "    elif each < 0:\n",
    "        o_list.append('N')\n",
    "    else:\n",
    "        o_list.append('Z')\n",
    "\n",
    "# o_list"
   ]
  },
  {
   "cell_type": "code",
   "execution_count": 14,
   "metadata": {},
   "outputs": [
    {
     "data": {
      "text/plain": [
       "['N',\n",
       " 'N',\n",
       " 'N',\n",
       " 'N',\n",
       " 'N',\n",
       " 'N',\n",
       " 'N',\n",
       " 'N',\n",
       " 'N',\n",
       " 'N',\n",
       " 'Z',\n",
       " 'P',\n",
       " 'P',\n",
       " 'P',\n",
       " 'P',\n",
       " 'P',\n",
       " 'P',\n",
       " 'P',\n",
       " 'P',\n",
       " 'P',\n",
       " 'P']"
      ]
     },
     "execution_count": 14,
     "metadata": {},
     "output_type": "execute_result"
    }
   ],
   "source": [
    "['P' if each > 0 else 'N' if each <0 else 'Z' for each in range(-10,11) ] # example of list comprehension with if-elif-else statament"
   ]
  },
  {
   "cell_type": "markdown",
   "metadata": {},
   "source": [
    "###### Peform this mapping between input and output list\n",
    "    input list => gender = ['female','male','female','female','male','female','Female','MALE','FEMALE']\n",
    "    output list => gender_E = [1,0,1,1,0,1,1,0,1]"
   ]
  },
  {
   "cell_type": "code",
   "execution_count": 15,
   "metadata": {},
   "outputs": [
    {
     "data": {
      "text/plain": [
       "[1, 0, 1, 1, 0, 1, 1, 0, 1]"
      ]
     },
     "execution_count": 15,
     "metadata": {},
     "output_type": "execute_result"
    }
   ],
   "source": [
    "[1 if x.lower() == 'female' else 0 for x in ['female','male','female','female','male','female','Female','MALE','FEMALE']]"
   ]
  },
  {
   "cell_type": "code",
   "execution_count": 16,
   "metadata": {},
   "outputs": [
    {
     "data": {
      "text/plain": [
       "[1, 0, 1, 1, 0, 1, 1, 0, 1]"
      ]
     },
     "execution_count": 16,
     "metadata": {},
     "output_type": "execute_result"
    }
   ],
   "source": [
    "[1 if x.lower() == 'female' else 0 if x.lower()=='male' else -1 for x in ['female','male','female','female','male','female','Female','MALE','FEMALE']]"
   ]
  },
  {
   "cell_type": "markdown",
   "metadata": {},
   "source": [
    "###### Example of list comprehension with nested loops"
   ]
  },
  {
   "cell_type": "markdown",
   "metadata": {},
   "source": [
    "    for i in range(1,4):\n",
    "        for j in range(1,11):\n",
    "            print(i*j)"
   ]
  },
  {
   "cell_type": "code",
   "execution_count": 17,
   "metadata": {},
   "outputs": [
    {
     "data": {
      "text/plain": [
       "[1,\n",
       " 2,\n",
       " 3,\n",
       " 4,\n",
       " 5,\n",
       " 6,\n",
       " 7,\n",
       " 8,\n",
       " 9,\n",
       " 10,\n",
       " 2,\n",
       " 4,\n",
       " 6,\n",
       " 8,\n",
       " 10,\n",
       " 12,\n",
       " 14,\n",
       " 16,\n",
       " 18,\n",
       " 20,\n",
       " 3,\n",
       " 6,\n",
       " 9,\n",
       " 12,\n",
       " 15,\n",
       " 18,\n",
       " 21,\n",
       " 24,\n",
       " 27,\n",
       " 30]"
      ]
     },
     "execution_count": 17,
     "metadata": {},
     "output_type": "execute_result"
    }
   ],
   "source": [
    "[i*j for i in range(1,4) for j in range(1,11)]"
   ]
  },
  {
   "cell_type": "markdown",
   "metadata": {},
   "source": [
    "    for i in range(1,4):\n",
    "        for j in range(1,11):\n",
    "            if j%2== 0:\n",
    "                print(i*j)"
   ]
  },
  {
   "cell_type": "code",
   "execution_count": 18,
   "metadata": {},
   "outputs": [
    {
     "data": {
      "text/plain": [
       "[2, 4, 6, 8, 10, 4, 8, 12, 16, 20, 6, 12, 18, 24, 30]"
      ]
     },
     "execution_count": 18,
     "metadata": {},
     "output_type": "execute_result"
    }
   ],
   "source": [
    "[i*j for i in range(1,4) for j in range(1,11) if j%2== 0]"
   ]
  },
  {
   "cell_type": "markdown",
   "metadata": {},
   "source": [
    "    for i in range(1,4):\n",
    "        for j in range(1,11):\n",
    "            if j%2== 0:\n",
    "                print(i*j)\n",
    "            else:\n",
    "                print('NA')"
   ]
  },
  {
   "cell_type": "code",
   "execution_count": 19,
   "metadata": {},
   "outputs": [
    {
     "data": {
      "text/plain": [
       "['NA',\n",
       " 2,\n",
       " 'NA',\n",
       " 4,\n",
       " 'NA',\n",
       " 6,\n",
       " 'NA',\n",
       " 8,\n",
       " 'NA',\n",
       " 10,\n",
       " 'NA',\n",
       " 4,\n",
       " 'NA',\n",
       " 8,\n",
       " 'NA',\n",
       " 12,\n",
       " 'NA',\n",
       " 16,\n",
       " 'NA',\n",
       " 20,\n",
       " 'NA',\n",
       " 6,\n",
       " 'NA',\n",
       " 12,\n",
       " 'NA',\n",
       " 18,\n",
       " 'NA',\n",
       " 24,\n",
       " 'NA',\n",
       " 30]"
      ]
     },
     "execution_count": 19,
     "metadata": {},
     "output_type": "execute_result"
    }
   ],
   "source": [
    "[i*j if j%2== 0 else 'NA' for i in range(1,4) for j in range(1,11)]"
   ]
  },
  {
   "cell_type": "markdown",
   "metadata": {},
   "source": [
    "    for i in range(1,4):\n",
    "        for j in range(1,11):\n",
    "            if j%2== 0:\n",
    "                print(i*j,j,i)"
   ]
  },
  {
   "cell_type": "code",
   "execution_count": 20,
   "metadata": {},
   "outputs": [
    {
     "data": {
      "text/plain": [
       "[(2, 1, 2),\n",
       " (4, 1, 4),\n",
       " (6, 1, 6),\n",
       " (8, 1, 8),\n",
       " (10, 1, 10),\n",
       " (4, 2, 2),\n",
       " (8, 2, 4),\n",
       " (12, 2, 6),\n",
       " (16, 2, 8),\n",
       " (20, 2, 10),\n",
       " (6, 3, 2),\n",
       " (12, 3, 4),\n",
       " (18, 3, 6),\n",
       " (24, 3, 8),\n",
       " (30, 3, 10)]"
      ]
     },
     "execution_count": 20,
     "metadata": {},
     "output_type": "execute_result"
    }
   ],
   "source": [
    "[(i*j,i,j) for i in range(1,4) for j in range(1,11) if j%2== 0]"
   ]
  },
  {
   "cell_type": "code",
   "execution_count": 21,
   "metadata": {},
   "outputs": [
    {
     "data": {
      "text/plain": [
       "[[2, 1, 2],\n",
       " [4, 1, 4],\n",
       " [6, 1, 6],\n",
       " [8, 1, 8],\n",
       " [10, 1, 10],\n",
       " [4, 2, 2],\n",
       " [8, 2, 4],\n",
       " [12, 2, 6],\n",
       " [16, 2, 8],\n",
       " [20, 2, 10],\n",
       " [6, 3, 2],\n",
       " [12, 3, 4],\n",
       " [18, 3, 6],\n",
       " [24, 3, 8],\n",
       " [30, 3, 10]]"
      ]
     },
     "execution_count": 21,
     "metadata": {},
     "output_type": "execute_result"
    }
   ],
   "source": [
    "[[i*j,i,j] for i in range(1,4) for j in range(1,11) if j%2== 0]"
   ]
  },
  {
   "cell_type": "markdown",
   "metadata": {},
   "source": [
    "###### list generator"
   ]
  },
  {
   "cell_type": "code",
   "execution_count": 22,
   "metadata": {},
   "outputs": [],
   "source": [
    "## syntax\n",
    "# (<out_expression> for <variable> in <iterables> (<conditional statememnts if any>))"
   ]
  },
  {
   "cell_type": "code",
   "execution_count": 23,
   "metadata": {},
   "outputs": [
    {
     "data": {
      "text/plain": [
       "[1, 4, 9, 16, 25]"
      ]
     },
     "execution_count": 23,
     "metadata": {},
     "output_type": "execute_result"
    }
   ],
   "source": [
    "[x**2 for x in range(1,6)] ## list comprehension"
   ]
  },
  {
   "cell_type": "code",
   "execution_count": 24,
   "metadata": {},
   "outputs": [
    {
     "data": {
      "text/plain": [
       "<generator object <genexpr> at 0x0000024B64120848>"
      ]
     },
     "execution_count": 24,
     "metadata": {},
     "output_type": "execute_result"
    }
   ],
   "source": [
    "(x**2 for x in range(1,6)) ## list generator"
   ]
  },
  {
   "cell_type": "code",
   "execution_count": 25,
   "metadata": {},
   "outputs": [],
   "source": [
    "# list comprehension => returns a list object; faster; time efficient\n",
    "# list generator => returns an iterator; slower (lazy generator); memory efficient"
   ]
  },
  {
   "cell_type": "code",
   "execution_count": 26,
   "metadata": {},
   "outputs": [
    {
     "data": {
      "text/plain": [
       "<generator object <genexpr> at 0x0000024B64114F48>"
      ]
     },
     "execution_count": 26,
     "metadata": {},
     "output_type": "execute_result"
    }
   ],
   "source": [
    "(x**2 for x in range(1,6))"
   ]
  },
  {
   "cell_type": "code",
   "execution_count": 27,
   "metadata": {},
   "outputs": [
    {
     "data": {
      "text/plain": [
       "285"
      ]
     },
     "execution_count": 27,
     "metadata": {},
     "output_type": "execute_result"
    }
   ],
   "source": [
    "# %memit \n",
    "sum([x**2 for x in range(1,10)])"
   ]
  },
  {
   "cell_type": "code",
   "execution_count": 28,
   "metadata": {},
   "outputs": [
    {
     "data": {
      "text/plain": [
       "285"
      ]
     },
     "execution_count": 28,
     "metadata": {},
     "output_type": "execute_result"
    }
   ],
   "source": [
    "sum((x**2 for x in range(1,10))) ## efficient"
   ]
  },
  {
   "cell_type": "code",
   "execution_count": 29,
   "metadata": {},
   "outputs": [
    {
     "data": {
      "text/plain": [
       "[1, 4, 9, 16, 25]"
      ]
     },
     "execution_count": 29,
     "metadata": {},
     "output_type": "execute_result"
    }
   ],
   "source": [
    "list((x**2 for x in range(1,6)))"
   ]
  },
  {
   "cell_type": "code",
   "execution_count": 30,
   "metadata": {},
   "outputs": [],
   "source": [
    "# tuple(x**2 for x in range(1,6))"
   ]
  },
  {
   "cell_type": "code",
   "execution_count": 31,
   "metadata": {},
   "outputs": [
    {
     "name": "stdout",
     "output_type": "stream",
     "text": [
      "1\n",
      "64\n",
      "729\n",
      "4096\n",
      "15625\n"
     ]
    }
   ],
   "source": [
    "for i in (x**2 for x in range(1,6)):\n",
    "    print(i**3)"
   ]
  },
  {
   "cell_type": "code",
   "execution_count": 32,
   "metadata": {},
   "outputs": [
    {
     "name": "stdout",
     "output_type": "stream",
     "text": [
      "1\n",
      "2\n",
      "3\n",
      "4\n",
      "5\n",
      "6\n",
      "7\n",
      "8\n",
      "9\n"
     ]
    }
   ],
   "source": [
    "for i in range(1,10):\n",
    "    print(i)"
   ]
  },
  {
   "cell_type": "code",
   "execution_count": 33,
   "metadata": {},
   "outputs": [],
   "source": [
    "# (i*j for i in range (1,4) for j in range (1,11) if j%2==0 )"
   ]
  },
  {
   "cell_type": "code",
   "execution_count": null,
   "metadata": {},
   "outputs": [],
   "source": []
  }
 ],
 "metadata": {
  "kernelspec": {
   "display_name": "Python 3",
   "language": "python",
   "name": "python3"
  },
  "language_info": {
   "codemirror_mode": {
    "name": "ipython",
    "version": 3
   },
   "file_extension": ".py",
   "mimetype": "text/x-python",
   "name": "python",
   "nbconvert_exporter": "python",
   "pygments_lexer": "ipython3",
   "version": "3.8.3"
  }
 },
 "nbformat": 4,
 "nbformat_minor": 4
}
