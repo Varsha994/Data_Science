{
 "cells": [
  {
   "cell_type": "code",
   "execution_count": 1,
   "metadata": {},
   "outputs": [
    {
     "name": "stdout",
     "output_type": "stream",
     "text": [
      "50 is a positive number.\n",
      "------\n",
      "Outside the if block\n"
     ]
    }
   ],
   "source": [
    "## Print value of variable only when n is positive\n",
    "\n",
    "#If\n",
    "n = 50\n",
    "if n > 0:\n",
    "    print('{} is a positive number.'.format(n))  # just replace variable by {}, it will format automatically\n",
    "    print('------')\n",
    "print(\"Outside the if block\")"
   ]
  },
  {
   "cell_type": "code",
   "execution_count": 2,
   "metadata": {},
   "outputs": [
    {
     "name": "stdout",
     "output_type": "stream",
     "text": [
      "{} is a positive number. 50\n"
     ]
    }
   ],
   "source": [
    "print('{} is a positive number.',n) # hence format() is necessary"
   ]
  },
  {
   "cell_type": "code",
   "execution_count": 3,
   "metadata": {},
   "outputs": [
    {
     "name": "stdout",
     "output_type": "stream",
     "text": [
      "-50 is a negative number.\n",
      "Outside the if block\n"
     ]
    }
   ],
   "source": [
    "## If-else\n",
    "\n",
    "n = -50\n",
    "if n > 0:\n",
    "    print('{} is a positive number.'.format(n))\n",
    "else:    \n",
    "    print('{} is a negative number.'.format(n))  \n",
    "    \n",
    "print(\"Outside the if block\")"
   ]
  },
  {
   "cell_type": "code",
   "execution_count": 4,
   "metadata": {},
   "outputs": [
    {
     "name": "stdout",
     "output_type": "stream",
     "text": [
      "Zero\n"
     ]
    }
   ],
   "source": [
    "## if-elif-else\n",
    "## Print appropriate message when number is positive, negative and zero\n",
    "\n",
    "n = 0\n",
    "if n > 0:\n",
    "    print('{} is a positive number.'.format(n))\n",
    "elif n < 0:    \n",
    "    print('{} is a negative number.'.format(n))  \n",
    "else:\n",
    "    print('Zero')\n"
   ]
  },
  {
   "cell_type": "markdown",
   "metadata": {},
   "source": [
    "### 1. WAP to check whether number is even or odd"
   ]
  },
  {
   "cell_type": "code",
   "execution_count": 7,
   "metadata": {},
   "outputs": [
    {
     "name": "stdout",
     "output_type": "stream",
     "text": [
      "10 is even number\n"
     ]
    }
   ],
   "source": [
    "num = 10\n",
    "if ((num % 2) == 0):\n",
    "    print('{} is even number'.format(num))\n",
    "else:\n",
    "    print('{} is odd number'.format(num))"
   ]
  },
  {
   "cell_type": "markdown",
   "metadata": {},
   "source": [
    "### 2.WAP to assign grades to the student based on the scores obtained in the exam.The gardes are as follows:\n",
    " ####  Grade 'A' if scores between 90-100\n",
    " ####  Grade 'B' if scores between 80-89\n",
    " ####  Grade 'C' if scores between 70-79\n",
    " ####  Grade 'D' if scores between 60-69\n",
    " ####  Grade 'E' if scores between 50-59\n",
    " ####  Otherwise, Grade 'F'"
   ]
  },
  {
   "cell_type": "code",
   "execution_count": 12,
   "metadata": {},
   "outputs": [
    {
     "name": "stdout",
     "output_type": "stream",
     "text": [
      "Enter your marks [0,100]: hjhj\n"
     ]
    },
    {
     "ename": "ValueError",
     "evalue": "invalid literal for int() with base 10: 'hjhj'",
     "output_type": "error",
     "traceback": [
      "\u001b[1;31m---------------------------------------------------------------------------\u001b[0m",
      "\u001b[1;31mValueError\u001b[0m                                Traceback (most recent call last)",
      "\u001b[1;32m<ipython-input-12-1e3cc89048b6>\u001b[0m in \u001b[0;36m<module>\u001b[1;34m\u001b[0m\n\u001b[1;32m----> 1\u001b[1;33m \u001b[0ma\u001b[0m \u001b[1;33m=\u001b[0m \u001b[0mint\u001b[0m\u001b[1;33m(\u001b[0m\u001b[0minput\u001b[0m\u001b[1;33m(\u001b[0m\u001b[1;34m'Enter your marks [0,100]: '\u001b[0m\u001b[1;33m)\u001b[0m\u001b[1;33m)\u001b[0m\u001b[1;33m\u001b[0m\u001b[1;33m\u001b[0m\u001b[0m\n\u001b[0m\u001b[0;32m      2\u001b[0m \u001b[1;33m\u001b[0m\u001b[0m\n\u001b[0;32m      3\u001b[0m \u001b[1;32mif\u001b[0m\u001b[1;33m(\u001b[0m\u001b[1;36m90\u001b[0m \u001b[1;33m<=\u001b[0m \u001b[0ma\u001b[0m \u001b[1;33m<=\u001b[0m \u001b[1;36m100\u001b[0m\u001b[1;33m)\u001b[0m\u001b[1;33m:\u001b[0m         \u001b[1;31m# or we can write as: ((a <= 100) & (a >= 90))\u001b[0m\u001b[1;33m\u001b[0m\u001b[1;33m\u001b[0m\u001b[0m\n\u001b[0;32m      4\u001b[0m     \u001b[0mprint\u001b[0m\u001b[1;33m(\u001b[0m\u001b[1;34m'Your Grade is A'\u001b[0m\u001b[1;33m)\u001b[0m\u001b[1;33m\u001b[0m\u001b[1;33m\u001b[0m\u001b[0m\n\u001b[0;32m      5\u001b[0m \u001b[1;33m\u001b[0m\u001b[0m\n",
      "\u001b[1;31mValueError\u001b[0m: invalid literal for int() with base 10: 'hjhj'"
     ]
    }
   ],
   "source": [
    "a = input('Enter your marks [0,100]: ')\n",
    "\n",
    "### validate whether the marks are integer type only, then only execute if-elif-else block \n",
    "type(a)                   #### pending: complete this\n",
    "\n",
    "if(90 <= a <= 100):         # or we can write as: ((a <= 100) and (a >= 90))\n",
    "    print('Your Grade is A')\n",
    "    \n",
    "elif(80 <= a <= 89):\n",
    "    print('Your Grade is B')\n",
    "elif(70 <= a <= 79):\n",
    "    print('Your Grade is C')\n",
    "elif(60 <= a <= 69):\n",
    "    print('Your Grade is D')    \n",
    "elif(50 <= a <= 59):\n",
    "    print('Your Grade is E')\n",
    "elif(0 <= a <= 49):\n",
    "    print(\"Your Grade is F\")\n",
    "    \n",
    "else:\n",
    "    print('Error: Invalid score')"
   ]
  },
  {
   "cell_type": "markdown",
   "metadata": {},
   "source": [
    "### 3. Design the basic calculator which takes minimum 3 inputs( 2 operands and 1 operator) from the user to perform addition, subtraction, multipliction, division and modulo.\n"
   ]
  },
  {
   "cell_type": "code",
   "execution_count": 22,
   "metadata": {},
   "outputs": [
    {
     "name": "stdout",
     "output_type": "stream",
     "text": [
      "Enter 1st operand: 7\n",
      "Enter 2nd operand: 0\n",
      "Enter operator: /\n",
      "Error: Division by 0 is invalid\n"
     ]
    }
   ],
   "source": [
    "n1 = int(input(\"Enter 1st operand: \"))\n",
    "n2 = int(input(\"Enter 2nd operand: \"))\n",
    "op = input(\"Enter operator: \")\n",
    "\n",
    "if( op == '+'):\n",
    "    print(n1+n2)\n",
    "elif( op == '-'):\n",
    "    print(n1-n2)\n",
    "elif( op == '*'):\n",
    "    print(n1*n2)\n",
    "elif( op == '/'):\n",
    "    if(n2 != 0):\n",
    "         print(n1/n2)\n",
    "    else:\n",
    "         print('Error: Division by 0 is invalid')\n",
    "elif( op == '%'):\n",
    "    if(n2 != 0):\n",
    "         print(n1%n2)\n",
    "    else:\n",
    "         print('Error: Division by 0 is invalid')\n",
    "else:\n",
    "    print('Error: Invalid operator!')      "
   ]
  },
  {
   "cell_type": "markdown",
   "metadata": {},
   "source": [
    "## Loops"
   ]
  },
  {
   "cell_type": "markdown",
   "metadata": {},
   "source": [
    "### 1. WAP to print Hello World! 10 times"
   ]
  },
  {
   "cell_type": "code",
   "execution_count": 23,
   "metadata": {},
   "outputs": [
    {
     "name": "stdout",
     "output_type": "stream",
     "text": [
      "Entered into the loop\n",
      "Hello World!\n",
      "Hello World!\n",
      "Hello World!\n",
      "Hello World!\n",
      "Hello World!\n",
      "Hello World!\n",
      "Hello World!\n",
      "Hello World!\n",
      "Hello World!\n",
      "Hello World!\n",
      "Exit of the loop\n"
     ]
    }
   ],
   "source": [
    "\n",
    "counter = 1\n",
    "\n",
    "while counter <= 10:\n",
    "    if counter == 1:\n",
    "        print('Entered into the loop')\n",
    "    print('Hello World!')\n",
    "    ## update the counter  #if we dont update the counter,it will go on infinite loop,then we need to terminate by'interrupt the kernel' button\n",
    "    counter += 1  \n",
    "    \n",
    "print('Exit of the loop')   "
   ]
  },
  {
   "cell_type": "markdown",
   "metadata": {},
   "source": [
    "### 2. WAP to print integers 1 to 10"
   ]
  },
  {
   "cell_type": "code",
   "execution_count": 4,
   "metadata": {},
   "outputs": [
    {
     "name": "stdout",
     "output_type": "stream",
     "text": [
      "1\n",
      "2\n",
      "3\n",
      "4\n",
      "5\n",
      "6\n",
      "7\n",
      "8\n",
      "9\n",
      "10\n"
     ]
    }
   ],
   "source": [
    "count = 1\n",
    "while(count <= 10):\n",
    "    print(count)\n",
    "    count += 1"
   ]
  },
  {
   "cell_type": "markdown",
   "metadata": {},
   "source": [
    "### 3. WAP to print integers 10 to 1"
   ]
  },
  {
   "cell_type": "code",
   "execution_count": 6,
   "metadata": {},
   "outputs": [
    {
     "name": "stdout",
     "output_type": "stream",
     "text": [
      "10\n",
      "9\n",
      "8\n",
      "7\n",
      "6\n",
      "5\n",
      "4\n",
      "3\n",
      "2\n",
      "1\n"
     ]
    }
   ],
   "source": [
    "num = 10\n",
    "while(num >= 1):\n",
    "    print(num)\n",
    "    num -= 1"
   ]
  },
  {
   "cell_type": "markdown",
   "metadata": {},
   "source": [
    "### 4. WAP to print integers 1 to N"
   ]
  },
  {
   "cell_type": "code",
   "execution_count": 7,
   "metadata": {},
   "outputs": [
    {
     "name": "stdout",
     "output_type": "stream",
     "text": [
      "Enter value for N: 8\n",
      "1\n",
      "2\n",
      "3\n",
      "4\n",
      "5\n",
      "6\n",
      "7\n",
      "8\n"
     ]
    }
   ],
   "source": [
    "n = int(input('Enter value for N: '))\n",
    "c = 1\n",
    "while(c <= n):\n",
    "    print(c)\n",
    "    c += 1"
   ]
  },
  {
   "cell_type": "markdown",
   "metadata": {},
   "source": [
    "### 5. WAP to sum integers 1 to N"
   ]
  },
  {
   "cell_type": "code",
   "execution_count": 3,
   "metadata": {},
   "outputs": [
    {
     "name": "stdout",
     "output_type": "stream",
     "text": [
      "Enter value for N: 10\n",
      "Sum of integers 1:10 = 55\n"
     ]
    }
   ],
   "source": [
    "n1 = int(input('Enter value for N(>1): '))\n",
    "count = 1\n",
    "sum_ = 0\n",
    "while(count <= n1):\n",
    "    sum_ = sum_ + count\n",
    "    count += 1\n",
    "print('Sum of integers 1:{} = {}'.format(n1,sum_))  # value of n1 will be assigned to 1st {}, and value of sum_ will be assigned to 2nd {}"
   ]
  },
  {
   "cell_type": "code",
   "execution_count": 4,
   "metadata": {},
   "outputs": [
    {
     "name": "stdout",
     "output_type": "stream",
     "text": [
      "1\n",
      "2\n",
      "3\n",
      "4\n",
      "5\n",
      "6\n",
      "7\n",
      "8\n",
      "9\n",
      "10\n"
     ]
    }
   ],
   "source": [
    "## For loop\n",
    "# WAP to print integers 1 to 10 using for loop\n",
    "\n",
    "for each in[1,2,3,4,5,6,7,8,9,10]: # or use range(1,11) #defining list / generating iterable\n",
    "    print(each)"
   ]
  },
  {
   "cell_type": "code",
   "execution_count": 5,
   "metadata": {},
   "outputs": [
    {
     "name": "stdout",
     "output_type": "stream",
     "text": [
      "1\n",
      "2\n",
      "3\n",
      "4\n",
      "5\n",
      "6\n",
      "7\n",
      "8\n",
      "9\n",
      "10\n"
     ]
    }
   ],
   "source": [
    "## range function\n",
    "\n",
    "for each in range(1,11,1):  # range(start, end, interval) #end is exclusive #by default values of start=0, interval=1 #end cannot be skipped\n",
    "    print(each)"
   ]
  },
  {
   "cell_type": "code",
   "execution_count": 9,
   "metadata": {},
   "outputs": [
    {
     "name": "stdout",
     "output_type": "stream",
     "text": [
      "10\n",
      "9\n",
      "8\n",
      "7\n",
      "6\n",
      "5\n",
      "4\n",
      "3\n",
      "2\n",
      "1\n"
     ]
    }
   ],
   "source": [
    "# WAP to print integers 10 to 1 using for loop\n",
    "for each in range(10,0,-1): \n",
    "    print(each)"
   ]
  },
  {
   "cell_type": "code",
   "execution_count": null,
   "metadata": {},
   "outputs": [],
   "source": [
    "###\n",
    "# pass - in loops, when you want it to be empty/ dont want to perform any operation, then pass is used. \n",
    "# break - it will break the loop and come out of the loop even if the original condition to break the condition is not met\n",
    "# continue - skips the logic when the continue keyword is hit in the given iteration"
   ]
  },
  {
   "cell_type": "code",
   "execution_count": 1,
   "metadata": {},
   "outputs": [],
   "source": [
    "#example of pass:\n",
    "n = 9\n",
    "if n> 0:\n",
    "    pass\n",
    "else:\n",
    "    print('hello world')"
   ]
  },
  {
   "cell_type": "code",
   "execution_count": 11,
   "metadata": {},
   "outputs": [
    {
     "name": "stdout",
     "output_type": "stream",
     "text": [
      "Enter value for N: 10\n",
      "1\n",
      "2\n",
      "3\n",
      "4\n",
      "6\n",
      "7\n",
      "8\n",
      "9\n",
      "10\n"
     ]
    }
   ],
   "source": [
    "## WAP to print 1 to N except 5\n",
    "n = int(input('Enter value for N: '))\n",
    "c = 1\n",
    "while(c <= n):\n",
    "    if(c == 5):   \n",
    "        c += 1\n",
    "        continue   ## it skips the operation for that particular iteration, and it resumes from the next iteration\n",
    "        \n",
    "    print(c)\n",
    "    c += 1"
   ]
  },
  {
   "cell_type": "code",
   "execution_count": 15,
   "metadata": {},
   "outputs": [
    {
     "name": "stdout",
     "output_type": "stream",
     "text": [
      "Enter value for N: 10\n",
      "1\n",
      "2\n",
      "3\n",
      "4\n",
      "Out of the loop\n"
     ]
    }
   ],
   "source": [
    "## WAP to print 1 to N but terminate when N = 5\n",
    "\n",
    "N = int(input('Enter value for N: '))\n",
    "count = 1\n",
    "while(count <= N):\n",
    "    if(count == 5):   \n",
    "        count += 1\n",
    "        break   \n",
    "        \n",
    "    print(count)\n",
    "    count += 1\n",
    "    \n",
    "print('Out of the loop')"
   ]
  },
  {
   "cell_type": "code",
   "execution_count": null,
   "metadata": {},
   "outputs": [],
   "source": []
  },
  {
   "cell_type": "code",
   "execution_count": null,
   "metadata": {},
   "outputs": [],
   "source": []
  },
  {
   "cell_type": "code",
   "execution_count": null,
   "metadata": {},
   "outputs": [],
   "source": []
  },
  {
   "cell_type": "code",
   "execution_count": null,
   "metadata": {},
   "outputs": [],
   "source": []
  },
  {
   "cell_type": "code",
   "execution_count": null,
   "metadata": {},
   "outputs": [],
   "source": []
  }
 ],
 "metadata": {
  "kernelspec": {
   "display_name": "Python 3",
   "language": "python",
   "name": "python3"
  },
  "language_info": {
   "codemirror_mode": {
    "name": "ipython",
    "version": 3
   },
   "file_extension": ".py",
   "mimetype": "text/x-python",
   "name": "python",
   "nbconvert_exporter": "python",
   "pygments_lexer": "ipython3",
   "version": "3.8.3"
  }
 },
 "nbformat": 4,
 "nbformat_minor": 4
}
