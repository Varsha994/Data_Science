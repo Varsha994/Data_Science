{
 "cells": [
  {
   "cell_type": "markdown",
   "metadata": {},
   "source": [
    "###### Tuple\n",
    "    - ordered, immutable, indexable, hetrogenous data structure"
   ]
  },
  {
   "cell_type": "code",
   "execution_count": 1,
   "metadata": {},
   "outputs": [],
   "source": [
    "## syntax of tuple\n",
    "# (val1, val2, val3,....,valN)  => val1, val2, ....valN can be any python supported data types"
   ]
  },
  {
   "cell_type": "code",
   "execution_count": 2,
   "metadata": {},
   "outputs": [
    {
     "name": "stdout",
     "output_type": "stream",
     "text": [
      "<class 'tuple'>\n",
      "(1, 2, 3, 4, 5)\n",
      "(3, 4, 5.0, 'a', 3, 4, (3, 4), [60, 70, 80])\n"
     ]
    }
   ],
   "source": [
    "t1 = (1,2,3,4,5)\n",
    "print(type(t1))\n",
    "print(t1)\n",
    "\n",
    "t1 = (3,4,5.0,'a',3,4,(3,4),[60,70,80])\n",
    "print(t1)"
   ]
  },
  {
   "cell_type": "code",
   "execution_count": 3,
   "metadata": {},
   "outputs": [
    {
     "name": "stdout",
     "output_type": "stream",
     "text": [
      "<class 'list'>\n",
      "[3, 4, 5, 7]\n",
      "<class 'tuple'>\n"
     ]
    }
   ],
   "source": [
    "# tuple()\n",
    "l1 = [3,4,5,7]\n",
    "print(type(l1))\n",
    "print(l1)\n",
    "\n",
    "### converting list to tuple\n",
    "print(type(tuple(l1)))"
   ]
  },
  {
   "cell_type": "markdown",
   "metadata": {},
   "source": [
    "###### Access elements of the tuple object\n",
    "    - indexing\n",
    "    - slicing\n",
    "    - negative indexing\n",
    "    - negative slicing "
   ]
  },
  {
   "cell_type": "code",
   "execution_count": 4,
   "metadata": {},
   "outputs": [],
   "source": [
    "t1 = (20,30,50,(40,55,60),[56,66,77,[88,99,101]], 'city',[22.2,44.4],55.5)"
   ]
  },
  {
   "cell_type": "code",
   "execution_count": 5,
   "metadata": {},
   "outputs": [
    {
     "name": "stdout",
     "output_type": "stream",
     "text": [
      "88\n",
      "[56, 66, 77]\n",
      "50\n",
      "city\n",
      "55.5\n",
      "([56, 66, 77, [88, 99, 101]], 'city')\n",
      "(50, (40, 55, 60))\n"
     ]
    }
   ],
   "source": [
    "## fetch 88\n",
    "print(t1[4][-1][0])\n",
    "\n",
    "## fetch [56,66,77]\n",
    "print(t1[4][0:3])\n",
    "\n",
    "## fetch 50\n",
    "print(t1[2])\n",
    "\n",
    "## fetch out 'city'\n",
    "print(t1[-3])\n",
    "\n",
    "## fetch 55.5\n",
    "print(t1[-1])\n",
    "\n",
    "## fetch [56,66,77,[88,99,101]], 'city'\n",
    "print(t1[4:6])\n",
    "\n",
    "## fetch (50,(40,55,60))\n",
    "print(t1[2:4])"
   ]
  },
  {
   "cell_type": "code",
   "execution_count": 6,
   "metadata": {},
   "outputs": [],
   "source": [
    "t1 = (20,30,50,(40,55,60),[56,66,77,[88,99,101]], 'city',[22.2,44.4],55.5)\n",
    "# replace 'city' with 'pune'\n",
    "# t1[-3] = 'pune' ### immutable"
   ]
  },
  {
   "cell_type": "code",
   "execution_count": 7,
   "metadata": {},
   "outputs": [],
   "source": [
    "## insert, append, extend, deleting, modifying"
   ]
  },
  {
   "cell_type": "code",
   "execution_count": 8,
   "metadata": {},
   "outputs": [],
   "source": [
    "# [1,2,3,4]\n",
    "# (1,2,3,4)"
   ]
  },
  {
   "cell_type": "code",
   "execution_count": 9,
   "metadata": {},
   "outputs": [],
   "source": [
    "from sys import getsizeof"
   ]
  },
  {
   "cell_type": "code",
   "execution_count": 10,
   "metadata": {},
   "outputs": [
    {
     "name": "stdout",
     "output_type": "stream",
     "text": [
      "112\n",
      "96\n"
     ]
    }
   ],
   "source": [
    "print(getsizeof([1,2,3,4,5,[10,20,50]]))\n",
    "print(getsizeof((1,2,3,4,5,[10,20,50])))"
   ]
  },
  {
   "cell_type": "code",
   "execution_count": 11,
   "metadata": {},
   "outputs": [],
   "source": [
    "# t1.count(), t1.index()"
   ]
  },
  {
   "cell_type": "code",
   "execution_count": 12,
   "metadata": {},
   "outputs": [
    {
     "name": "stdout",
     "output_type": "stream",
     "text": [
      "1\n",
      "2\n",
      "3\n",
      "4\n",
      "5\n",
      "6\n",
      "7\n",
      "8\n",
      "9\n",
      "10\n"
     ]
    }
   ],
   "source": [
    "### loop through a tuple\n",
    "for each in tuple(range(1,11)):\n",
    "    print(each)"
   ]
  },
  {
   "cell_type": "code",
   "execution_count": 13,
   "metadata": {},
   "outputs": [
    {
     "data": {
      "text/plain": [
       "True"
      ]
     },
     "execution_count": 13,
     "metadata": {},
     "output_type": "execute_result"
    }
   ],
   "source": [
    "### if an item exists in a tuple\n",
    "'bangalore' in (\"bangalore\",\"pune\",\"chennai\")"
   ]
  },
  {
   "cell_type": "code",
   "execution_count": 14,
   "metadata": {},
   "outputs": [],
   "source": [
    "t2 = t1"
   ]
  },
  {
   "cell_type": "code",
   "execution_count": 15,
   "metadata": {},
   "outputs": [
    {
     "name": "stdout",
     "output_type": "stream",
     "text": [
      "(20, 30, 50, (40, 55, 60), [56, 66, 77, [88, 99, 101]], 'city', [22.2, 44.4], 55.5)\n",
      "(20, 30, 50, (40, 55, 60), [56, 66, 77, [88, 99, 101]], 'city', [22.2, 44.4], 55.5)\n"
     ]
    }
   ],
   "source": [
    "print(t2)\n",
    "print(t1)"
   ]
  },
  {
   "cell_type": "code",
   "execution_count": null,
   "metadata": {},
   "outputs": [],
   "source": []
  },
  {
   "cell_type": "markdown",
   "metadata": {},
   "source": [
    "###### Dictionary\n",
    "    - unordered, \n",
    "    - mutable, \n",
    "    - indexable,\n",
    "    - keys - can be any python suported data which are constant: eg: string\n",
    "    - values - values can by any python supported data\n",
    "    - keys can not be duplicates, howevere, values can be duplicate"
   ]
  },
  {
   "cell_type": "code",
   "execution_count": 16,
   "metadata": {},
   "outputs": [],
   "source": [
    "# ## syntax of dictionary\n",
    "# {key1:val1,key2:val2,key3:val3,......keyN:valN} => keys can be any python suported data which are constant: eg: string\n",
    "#                                                 => values can by any python supported data"
   ]
  },
  {
   "cell_type": "code",
   "execution_count": 17,
   "metadata": {},
   "outputs": [
    {
     "name": "stdout",
     "output_type": "stream",
     "text": [
      "Enter your name: D\n"
     ]
    }
   ],
   "source": [
    "D = input('Enter your name: ')\n",
    "students = {'name':['A','B','C',D],\n",
    "            'rollno': (1,2,3,4),\n",
    "            'scores':[30,40,50,60],\n",
    "            'address':{'city':['bangalore','pune','chennai','delhi'],\n",
    "                       'state':['KN','MH','TN','DH'],\n",
    "                       'country':'IN'}\n",
    "           }"
   ]
  },
  {
   "cell_type": "code",
   "execution_count": 18,
   "metadata": {},
   "outputs": [
    {
     "name": "stdout",
     "output_type": "stream",
     "text": [
      "<class 'dict'>\n"
     ]
    },
    {
     "data": {
      "text/plain": [
       "{'name': ['A', 'B', 'C', 'D'],\n",
       " 'rollno': (1, 2, 3, 4),\n",
       " 'scores': [30, 40, 50, 60],\n",
       " 'address': {'city': ['bangalore', 'pune', 'chennai', 'delhi'],\n",
       "  'state': ['KN', 'MH', 'TN', 'DH'],\n",
       "  'country': 'IN'}}"
      ]
     },
     "execution_count": 18,
     "metadata": {},
     "output_type": "execute_result"
    }
   ],
   "source": [
    "print(type(students))\n",
    "students"
   ]
  },
  {
   "cell_type": "code",
   "execution_count": 19,
   "metadata": {},
   "outputs": [
    {
     "data": {
      "text/plain": [
       "{'name': ['A', 'G', 'F', 'E'],\n",
       " 'rollno': (1, 2, 3, 4),\n",
       " 'scores': [30, 40, 50, 60],\n",
       " 'address': {'city': ['bangalore', 'pune', 'chennai', 'delhi'],\n",
       "  'state': ['KN', 'MH', 'TN', 'DH'],\n",
       "  'country': 'IN'},\n",
       " 'rollno2': (1, 2, 3, 4)}"
      ]
     },
     "execution_count": 19,
     "metadata": {},
     "output_type": "execute_result"
    }
   ],
   "source": [
    "students = {'name':['A','B','C','D'],\n",
    "            'rollno': (1,2,3,4),\n",
    "            'scores':[30,40,50,60],\n",
    "            'address':{'city':['bangalore','pune','chennai','delhi'],\n",
    "                       'state':['KN','MH','TN','DH'],\n",
    "                       'country':'IN'},\n",
    "            'name':['A','G','F','E'],\n",
    "            'rollno2': (1,2,3,4)\n",
    "           }\n",
    "students"
   ]
  },
  {
   "cell_type": "code",
   "execution_count": 20,
   "metadata": {},
   "outputs": [
    {
     "data": {
      "text/plain": [
       "{'A': 40, 'B': 50, 'C': 30}"
      ]
     },
     "execution_count": 20,
     "metadata": {},
     "output_type": "execute_result"
    }
   ],
   "source": [
    "names = ['A','B','C']\n",
    "scores = [40,50,30]\n",
    "dict(zip(names,scores))"
   ]
  },
  {
   "cell_type": "markdown",
   "metadata": {},
   "source": [
    "###### Accessing values from a dictionary"
   ]
  },
  {
   "cell_type": "code",
   "execution_count": 21,
   "metadata": {},
   "outputs": [
    {
     "data": {
      "text/plain": [
       "{'name': ['A', 'G', 'F', 'E'],\n",
       " 'rollno': (1, 2, 3, 4),\n",
       " 'scores': [30, 40, 50, 60],\n",
       " 'address': {'city': ['bangalore', 'pune', 'chennai', 'delhi'],\n",
       "  'state': ['KN', 'MH', 'TN', 'DH'],\n",
       "  'country': 'IN'},\n",
       " 'rollno2': (1, 2, 3, 4)}"
      ]
     },
     "execution_count": 21,
     "metadata": {},
     "output_type": "execute_result"
    }
   ],
   "source": [
    "students"
   ]
  },
  {
   "cell_type": "code",
   "execution_count": 22,
   "metadata": {},
   "outputs": [
    {
     "name": "stdout",
     "output_type": "stream",
     "text": [
      "50\n",
      "50\n"
     ]
    }
   ],
   "source": [
    "## fetch 50\n",
    "print(students['scores'][-2])\n",
    "print(students['scores'][2])"
   ]
  },
  {
   "cell_type": "code",
   "execution_count": 23,
   "metadata": {},
   "outputs": [
    {
     "name": "stdout",
     "output_type": "stream",
     "text": [
      "4\n",
      "MH\n",
      "IN\n"
     ]
    }
   ],
   "source": [
    "## fetch 4\n",
    "print(students['rollno'][-1])\n",
    "\n",
    "## fetch 'MH'\n",
    "print(students['address']['state'][1])\n",
    "\n",
    "## fetch 'IN'\n",
    "print(students['address']['country'])"
   ]
  },
  {
   "cell_type": "markdown",
   "metadata": {},
   "source": [
    "###### Modify an item"
   ]
  },
  {
   "cell_type": "code",
   "execution_count": 24,
   "metadata": {},
   "outputs": [
    {
     "data": {
      "text/plain": [
       "{'name': ['A', 'G', 'F', 'E'],\n",
       " 'rollno': (1, 2, 3, 4),\n",
       " 'scores': [30, 40, 50, 60],\n",
       " 'address': {'city': ['bangalore', 'pune', 'chennai', 'delhi'],\n",
       "  'state': ['KN', 'MH', 'TN', 'DH'],\n",
       "  'country': 'IN'},\n",
       " 'rollno2': (1, 2, 3, 4)}"
      ]
     },
     "execution_count": 24,
     "metadata": {},
     "output_type": "execute_result"
    }
   ],
   "source": [
    "students"
   ]
  },
  {
   "cell_type": "code",
   "execution_count": 25,
   "metadata": {},
   "outputs": [],
   "source": [
    "students['address']['city'][1] = 'mumbai'"
   ]
  },
  {
   "cell_type": "code",
   "execution_count": 26,
   "metadata": {},
   "outputs": [
    {
     "data": {
      "text/plain": [
       "{'name': ['A', 'G', 'F', 'E'],\n",
       " 'rollno': (1, 2, 3, 4),\n",
       " 'scores': [30, 40, 50, 60],\n",
       " 'address': {'city': ['bangalore', 'mumbai', 'chennai', 'delhi'],\n",
       "  'state': ['KN', 'MH', 'TN', 'DH'],\n",
       "  'country': 'IN'},\n",
       " 'rollno2': (1, 2, 3, 4)}"
      ]
     },
     "execution_count": 26,
     "metadata": {},
     "output_type": "execute_result"
    }
   ],
   "source": [
    "students"
   ]
  },
  {
   "cell_type": "markdown",
   "metadata": {},
   "source": [
    "###### looping through dictionary"
   ]
  },
  {
   "cell_type": "code",
   "execution_count": 27,
   "metadata": {},
   "outputs": [
    {
     "data": {
      "text/plain": [
       "{'name': ['A', 'G', 'F', 'E'],\n",
       " 'rollno': (1, 2, 3, 4),\n",
       " 'scores': [30, 40, 50, 60],\n",
       " 'address': {'city': ['bangalore', 'mumbai', 'chennai', 'delhi'],\n",
       "  'state': ['KN', 'MH', 'TN', 'DH'],\n",
       "  'country': 'IN'},\n",
       " 'rollno2': (1, 2, 3, 4)}"
      ]
     },
     "execution_count": 27,
     "metadata": {},
     "output_type": "execute_result"
    }
   ],
   "source": [
    "students"
   ]
  },
  {
   "cell_type": "code",
   "execution_count": 28,
   "metadata": {},
   "outputs": [
    {
     "name": "stdout",
     "output_type": "stream",
     "text": [
      "('name', ['A', 'G', 'F', 'E'])\n",
      "('rollno', (1, 2, 3, 4))\n",
      "('scores', [30, 40, 50, 60])\n",
      "('address', {'city': ['bangalore', 'mumbai', 'chennai', 'delhi'], 'state': ['KN', 'MH', 'TN', 'DH'], 'country': 'IN'})\n",
      "('rollno2', (1, 2, 3, 4))\n"
     ]
    }
   ],
   "source": [
    "for key_val_pair in students.items():\n",
    "    print(key_val_pair)"
   ]
  },
  {
   "cell_type": "code",
   "execution_count": 29,
   "metadata": {},
   "outputs": [
    {
     "data": {
      "text/plain": [
       "{'name': ['A', 'M', 'F', 'E'],\n",
       " 'rollno': (1, 2, 3, 4),\n",
       " 'scores': [30, 40, 50, 60],\n",
       " 'address': {'city': ['bangalore', 'mumbai', 'chennai', 'delhi'],\n",
       "  'state': ['KN', 'MH', 'TN', 'DH'],\n",
       "  'country': 'IN'},\n",
       " 'rollno2': (1, 2, 3, 4)}"
      ]
     },
     "execution_count": 29,
     "metadata": {},
     "output_type": "execute_result"
    }
   ],
   "source": [
    "### loop through 'students' and try to replace 'G' with 'M'\n",
    "for key_val_pair in students.items():\n",
    "    if key_val_pair[0] == 'name':\n",
    "        key_val_pair[1][1] = 'M'\n",
    "        \n",
    "students        "
   ]
  },
  {
   "cell_type": "code",
   "execution_count": 30,
   "metadata": {},
   "outputs": [],
   "source": [
    "# ### loop through 'students' and try to replace '3' with '7' under 'rollno' \n",
    "# for key_val_pair in students.items():\n",
    "#     if key_val_pair[0] == 'rollno':\n",
    "#         key_val_pair[1][2] = 7\n",
    "        \n",
    "# students        "
   ]
  },
  {
   "cell_type": "code",
   "execution_count": 31,
   "metadata": {},
   "outputs": [
    {
     "name": "stdout",
     "output_type": "stream",
     "text": [
      "name\n",
      "rollno\n",
      "scores\n",
      "address\n",
      "rollno2\n"
     ]
    }
   ],
   "source": [
    "for k in students.keys(): # keys\n",
    "    print(k)"
   ]
  },
  {
   "cell_type": "code",
   "execution_count": 32,
   "metadata": {},
   "outputs": [
    {
     "name": "stdout",
     "output_type": "stream",
     "text": [
      "['A', 'M', 'F', 'E']\n",
      "(1, 2, 3, 4)\n",
      "[30, 40, 50, 60]\n",
      "{'city': ['bangalore', 'mumbai', 'chennai', 'delhi'], 'state': ['KN', 'MH', 'TN', 'DH'], 'country': 'IN'}\n",
      "(1, 2, 3, 4)\n"
     ]
    }
   ],
   "source": [
    "for v in students.values(): # keys\n",
    "    print(v)"
   ]
  },
  {
   "cell_type": "code",
   "execution_count": 33,
   "metadata": {},
   "outputs": [
    {
     "name": "stdout",
     "output_type": "stream",
     "text": [
      "name ['A', 'M', 'F', 'E']\n",
      "rollno (1, 2, 3, 4)\n",
      "scores [30, 40, 50, 60]\n",
      "address {'city': ['bangalore', 'mumbai', 'chennai', 'delhi'], 'state': ['KN', 'MH', 'TN', 'DH'], 'country': 'IN'}\n",
      "rollno2 (1, 2, 3, 4)\n"
     ]
    }
   ],
   "source": [
    "for k,v in students.items():\n",
    "    print(k,v)"
   ]
  },
  {
   "cell_type": "code",
   "execution_count": 34,
   "metadata": {},
   "outputs": [
    {
     "data": {
      "text/plain": [
       "{'A': [40, 50, 30], 'B': [40, 50, 30], 'C': [40, 50, 30]}"
      ]
     },
     "execution_count": 34,
     "metadata": {},
     "output_type": "execute_result"
    }
   ],
   "source": [
    "### inbuilt methods\n",
    "names = ['A','B','C']\n",
    "scores = [40,50,30]\n",
    "students.fromkeys(names, scores)"
   ]
  },
  {
   "cell_type": "code",
   "execution_count": 35,
   "metadata": {},
   "outputs": [
    {
     "data": {
      "text/plain": [
       "[30, 40, 50, 60]"
      ]
     },
     "execution_count": 35,
     "metadata": {},
     "output_type": "execute_result"
    }
   ],
   "source": [
    "students.get('scores')"
   ]
  },
  {
   "cell_type": "code",
   "execution_count": 36,
   "metadata": {},
   "outputs": [
    {
     "data": {
      "text/plain": [
       "[30, 40, 50, 60]"
      ]
     },
     "execution_count": 36,
     "metadata": {},
     "output_type": "execute_result"
    }
   ],
   "source": [
    "students.pop('scores') # delete"
   ]
  },
  {
   "cell_type": "code",
   "execution_count": 37,
   "metadata": {},
   "outputs": [
    {
     "data": {
      "text/plain": [
       "{'name': ['A', 'M', 'F', 'E'],\n",
       " 'rollno': (1, 2, 3, 4),\n",
       " 'address': {'city': ['bangalore', 'mumbai', 'chennai', 'delhi'],\n",
       "  'state': ['KN', 'MH', 'TN', 'DH'],\n",
       "  'country': 'IN'},\n",
       " 'rollno2': (1, 2, 3, 4)}"
      ]
     },
     "execution_count": 37,
     "metadata": {},
     "output_type": "execute_result"
    }
   ],
   "source": [
    "students"
   ]
  },
  {
   "cell_type": "code",
   "execution_count": 38,
   "metadata": {},
   "outputs": [],
   "source": [
    "students.setdefault('score')"
   ]
  },
  {
   "cell_type": "code",
   "execution_count": 39,
   "metadata": {},
   "outputs": [
    {
     "data": {
      "text/plain": [
       "{'name': ['A', 'M', 'F', 'E'],\n",
       " 'rollno': (1, 2, 3, 4),\n",
       " 'address': {'city': ['bangalore', 'mumbai', 'chennai', 'delhi'],\n",
       "  'state': ['KN', 'MH', 'TN', 'DH'],\n",
       "  'country': 'IN'},\n",
       " 'rollno2': (1, 2, 3, 4),\n",
       " 'score': None}"
      ]
     },
     "execution_count": 39,
     "metadata": {},
     "output_type": "execute_result"
    }
   ],
   "source": [
    "students"
   ]
  },
  {
   "cell_type": "code",
   "execution_count": 40,
   "metadata": {},
   "outputs": [],
   "source": [
    "students.update({'score':[10,20]})"
   ]
  },
  {
   "cell_type": "code",
   "execution_count": 41,
   "metadata": {},
   "outputs": [
    {
     "data": {
      "text/plain": [
       "{'name': ['A', 'M', 'F', 'E'],\n",
       " 'rollno': (1, 2, 3, 4),\n",
       " 'address': {'city': ['bangalore', 'mumbai', 'chennai', 'delhi'],\n",
       "  'state': ['KN', 'MH', 'TN', 'DH'],\n",
       "  'country': 'IN'},\n",
       " 'rollno2': (1, 2, 3, 4),\n",
       " 'score': [10, 20]}"
      ]
     },
     "execution_count": 41,
     "metadata": {},
     "output_type": "execute_result"
    }
   ],
   "source": [
    "students"
   ]
  },
  {
   "cell_type": "code",
   "execution_count": 42,
   "metadata": {},
   "outputs": [],
   "source": [
    "students.update({'score1':[10,20]})"
   ]
  },
  {
   "cell_type": "code",
   "execution_count": 43,
   "metadata": {},
   "outputs": [
    {
     "data": {
      "text/plain": [
       "{'name': ['A', 'M', 'F', 'E'],\n",
       " 'rollno': (1, 2, 3, 4),\n",
       " 'address': {'city': ['bangalore', 'mumbai', 'chennai', 'delhi'],\n",
       "  'state': ['KN', 'MH', 'TN', 'DH'],\n",
       "  'country': 'IN'},\n",
       " 'rollno2': (1, 2, 3, 4),\n",
       " 'score': [10, 20],\n",
       " 'score1': [10, 20]}"
      ]
     },
     "execution_count": 43,
     "metadata": {},
     "output_type": "execute_result"
    }
   ],
   "source": [
    "students"
   ]
  },
  {
   "cell_type": "code",
   "execution_count": 44,
   "metadata": {},
   "outputs": [
    {
     "name": "stdout",
     "output_type": "stream",
     "text": [
      "(1, 2, 3, 4, 5, 6, 7, 8, 9, 10, 11, 12, 13, 14, 15, 16, 17, 18, 19, 20)\n",
      "(15, 16, 17, 18, 19, 20, 21, 22, 23, 24, 25, 26, 27, 28, 29, 30, 31, 32, 33, 34, 35, 36, 37, 38, 39, 40)\n"
     ]
    }
   ],
   "source": [
    "t1 = tuple(range(1,21))\n",
    "t2 = tuple(range(15,41))\n",
    "print(t1)\n",
    "print(t2)"
   ]
  },
  {
   "cell_type": "markdown",
   "metadata": {},
   "source": [
    "###### sets\n",
    " - unordered\n",
    " - can no tbe indexed\n",
    " - duplicate members not allowed"
   ]
  },
  {
   "cell_type": "code",
   "execution_count": 45,
   "metadata": {},
   "outputs": [],
   "source": [
    "### syntax\n",
    "# {val1,val2,val3,val4,....valN}\n",
    "\n",
    "### set(iterable)"
   ]
  },
  {
   "cell_type": "code",
   "execution_count": 46,
   "metadata": {},
   "outputs": [
    {
     "name": "stdout",
     "output_type": "stream",
     "text": [
      "<class 'dict'>\n",
      "<class 'set'>\n"
     ]
    }
   ],
   "source": [
    "print(type({}))\n",
    "print(type({1,2}))"
   ]
  },
  {
   "cell_type": "code",
   "execution_count": 47,
   "metadata": {},
   "outputs": [
    {
     "name": "stdout",
     "output_type": "stream",
     "text": [
      "{1, 2, 3, 4}\n",
      "{1, 2, 3, 4}\n"
     ]
    }
   ],
   "source": [
    "print({1,2,3,4})\n",
    "print({1,1,2,3,4,1,2,3,4,1,1})"
   ]
  },
  {
   "cell_type": "code",
   "execution_count": 48,
   "metadata": {},
   "outputs": [],
   "source": [
    "# list => []\n",
    "# tuple => ()\n",
    "# dictionary => {}\n",
    "# set => {}"
   ]
  },
  {
   "cell_type": "code",
   "execution_count": 49,
   "metadata": {},
   "outputs": [
    {
     "name": "stdout",
     "output_type": "stream",
     "text": [
      "{1, 2, 3, 4, 5, 6, 7, 8, 9, 10, 11, 12, 13, 14, 15, 16, 17, 18, 19, 20}\n",
      "{15, 16, 17, 18, 19, 20, 21, 22, 23, 24, 25, 26, 27, 28, 29, 30, 31, 32, 33, 34, 35, 36, 37, 38, 39, 40}\n"
     ]
    }
   ],
   "source": [
    "s1 = set(range(1,21))\n",
    "s2 = set(range(15,41))\n",
    "print(s1)\n",
    "print(s2)"
   ]
  },
  {
   "cell_type": "code",
   "execution_count": 50,
   "metadata": {},
   "outputs": [
    {
     "data": {
      "text/plain": [
       "{15, 16, 17, 18, 19, 20}"
      ]
     },
     "execution_count": 50,
     "metadata": {},
     "output_type": "execute_result"
    }
   ],
   "source": [
    "s1.intersection(s2)"
   ]
  },
  {
   "cell_type": "code",
   "execution_count": 51,
   "metadata": {},
   "outputs": [
    {
     "name": "stdout",
     "output_type": "stream",
     "text": [
      "{1, 2, 3, 4, 5, 6, 7, 8, 9, 10, 11, 12, 13, 14, 15, 16, 17, 18, 19, 20}\n",
      "{15, 16, 17, 18, 19, 20}\n",
      "{1, 2, 3, 4, 5, 6, 7, 8, 9, 10, 11, 12, 13, 14, 15, 16, 17, 18, 19, 20}\n"
     ]
    }
   ],
   "source": [
    "print(s1)\n",
    "print(s1.intersection(s2))\n",
    "print(s1)"
   ]
  },
  {
   "cell_type": "code",
   "execution_count": 52,
   "metadata": {},
   "outputs": [
    {
     "name": "stdout",
     "output_type": "stream",
     "text": [
      "{1, 2, 3, 4, 5, 6, 7, 8, 9, 10, 11, 12, 13, 14, 15, 16, 17, 18, 19, 20}\n",
      "None\n",
      "{15, 16, 17, 18, 19, 20}\n"
     ]
    }
   ],
   "source": [
    "print(s1)\n",
    "print(s1.intersection_update(s2))\n",
    "print(s1)"
   ]
  },
  {
   "cell_type": "code",
   "execution_count": 53,
   "metadata": {},
   "outputs": [
    {
     "name": "stdout",
     "output_type": "stream",
     "text": [
      "{1, 2, 3, 4, 5, 6, 7, 8, 9, 10, 11, 12, 13, 14, 15, 16, 17, 18, 19, 20}\n",
      "{15, 16, 17, 18, 19, 20, 21, 22, 23, 24, 25, 26, 27, 28, 29, 30, 31, 32, 33, 34, 35, 36, 37, 38, 39, 40}\n"
     ]
    }
   ],
   "source": [
    "s1 = set(range(1,21))\n",
    "s2 = set(range(15,41))\n",
    "print(s1)\n",
    "print(s2)"
   ]
  },
  {
   "cell_type": "code",
   "execution_count": 54,
   "metadata": {},
   "outputs": [],
   "source": [
    "# s1.union(s2)"
   ]
  },
  {
   "cell_type": "code",
   "execution_count": 55,
   "metadata": {},
   "outputs": [
    {
     "data": {
      "text/plain": [
       "{1, 2, 3, 4, 5, 6, 7, 8, 9, 10, 11, 12, 13, 14}"
      ]
     },
     "execution_count": 55,
     "metadata": {},
     "output_type": "execute_result"
    }
   ],
   "source": [
    "s1.difference(s2)"
   ]
  },
  {
   "cell_type": "code",
   "execution_count": 56,
   "metadata": {},
   "outputs": [],
   "source": [
    "# s1.symmetric_difference(s2)"
   ]
  },
  {
   "cell_type": "code",
   "execution_count": 57,
   "metadata": {},
   "outputs": [
    {
     "data": {
      "text/plain": [
       "False"
      ]
     },
     "execution_count": 57,
     "metadata": {},
     "output_type": "execute_result"
    }
   ],
   "source": [
    "s1.issubset(s2)"
   ]
  },
  {
   "cell_type": "code",
   "execution_count": 58,
   "metadata": {},
   "outputs": [],
   "source": [
    "# for each in s1:\n",
    "#     print(each)"
   ]
  },
  {
   "cell_type": "code",
   "execution_count": null,
   "metadata": {},
   "outputs": [],
   "source": []
  }
 ],
 "metadata": {
  "kernelspec": {
   "display_name": "Python 3",
   "language": "python",
   "name": "python3"
  },
  "language_info": {
   "codemirror_mode": {
    "name": "ipython",
    "version": 3
   },
   "file_extension": ".py",
   "mimetype": "text/x-python",
   "name": "python",
   "nbconvert_exporter": "python",
   "pygments_lexer": "ipython3",
   "version": "3.8.3"
  }
 },
 "nbformat": 4,
 "nbformat_minor": 4
}
