{
 "cells": [
  {
   "cell_type": "markdown",
   "metadata": {},
   "source": [
    "### Change Item Value"
   ]
  },
  {
   "cell_type": "code",
   "execution_count": 1,
   "metadata": {},
   "outputs": [],
   "source": [
    "mylist = ['string',1,2,5,6,7,'bangalore',[3,4,5,7],'a','b','c',5.0,6.0,3.0,]"
   ]
  },
  {
   "cell_type": "code",
   "execution_count": 2,
   "metadata": {},
   "outputs": [
    {
     "name": "stdout",
     "output_type": "stream",
     "text": [
      "['string', 1, 2, 5, 6, 7, 'pune', [3, 4, 5, 7], 'a', 'b', 'c', 5.0, 6.0, 3.0]\n"
     ]
    }
   ],
   "source": [
    "## change 'bangalore' with 'pune'\n",
    "mylist[6] ='pune'\n",
    "print(mylist)"
   ]
  },
  {
   "cell_type": "code",
   "execution_count": 3,
   "metadata": {},
   "outputs": [
    {
     "name": "stdout",
     "output_type": "stream",
     "text": [
      "['string', 1, 2, 5, 6, 7, 456, [3, 4, 5, 7], 'a', 'b', 'c', 5.0, 6.0, 3.0]\n"
     ]
    }
   ],
   "source": [
    "## change 'pune' with 456\n",
    "mylist[6] = 456\n",
    "print(mylist)"
   ]
  },
  {
   "cell_type": "code",
   "execution_count": 4,
   "metadata": {},
   "outputs": [
    {
     "data": {
      "text/plain": [
       "['string', 1, 2, 5, 6, 7, 30, 50, 'a', 'b', 'c', 5.0, 6.0, 3.0]"
      ]
     },
     "execution_count": 4,
     "metadata": {},
     "output_type": "execute_result"
    }
   ],
   "source": [
    "## change [456, [3, 4, 5, 7]] to [30,50]\n",
    "mylist[6:8] = [30,50]    #[30,50] are two elements and not list\n",
    "mylist"
   ]
  },
  {
   "cell_type": "code",
   "execution_count": 5,
   "metadata": {},
   "outputs": [
    {
     "data": {
      "text/plain": [
       "['string', 1, 2, 5, 6, 7, 40, 'a', 'b', 'c', 5.0, 6.0, 3.0]"
      ]
     },
     "execution_count": 5,
     "metadata": {},
     "output_type": "execute_result"
    }
   ],
   "source": [
    "## change [30,50] to 40\n",
    "# mylist[6:8] = 40   #error, it has to be in square braces\n",
    "mylist[6:8] = [40]\n",
    "mylist"
   ]
  },
  {
   "cell_type": "code",
   "execution_count": 7,
   "metadata": {},
   "outputs": [],
   "source": [
    "mylist = ['string', 1, 2, 5, 6, 7, 456, [3, 4, 5, 7], 'a', 'b', 'c', 5.0, 6.0, 3.0]"
   ]
  },
  {
   "cell_type": "code",
   "execution_count": 8,
   "metadata": {
    "scrolled": true
   },
   "outputs": [
    {
     "data": {
      "text/plain": [
       "['string', 1, 2, 5, 6, 7, 456, [3, 4, 8, 7], 'a', 'b', 'c', 5.0, 6.0, 3.0]"
      ]
     },
     "execution_count": 8,
     "metadata": {},
     "output_type": "execute_result"
    }
   ],
   "source": [
    "mylist[7][-2] = 8\n",
    "mylist"
   ]
  },
  {
   "cell_type": "markdown",
   "metadata": {},
   "source": [
    "#### To add new elements in the list using:\n",
    "     - extend()\n",
    "     - append()\n",
    "     - insert()"
   ]
  },
  {
   "cell_type": "code",
   "execution_count": 17,
   "metadata": {},
   "outputs": [],
   "source": [
    "mylist = ['string', 1, 2, 5, 6, 7, 456, [3, 4, 5, 7], 'a', 'b', 'c', 5.0, 6.0, 3.0]"
   ]
  },
  {
   "cell_type": "markdown",
   "metadata": {},
   "source": [
    "#### Append()"
   ]
  },
  {
   "cell_type": "code",
   "execution_count": 18,
   "metadata": {},
   "outputs": [
    {
     "name": "stdout",
     "output_type": "stream",
     "text": [
      "['string', 1, 2, 5, 6, 7, 456, [3, 4, 5, 7], 'a', 'b', 'c', 5.0, 6.0, 3.0]\n",
      "['string', 1, 2, 5, 6, 7, 456, [3, 4, 5, 7], 'a', 'b', 'c', 5.0, 6.0, 3.0, 'pune']\n"
     ]
    }
   ],
   "source": [
    "print(mylist)    #before\n",
    "mylist.append(\"pune\")   #inserts new element at last\n",
    "print(mylist)    #after"
   ]
  },
  {
   "cell_type": "code",
   "execution_count": 19,
   "metadata": {},
   "outputs": [
    {
     "name": "stdout",
     "output_type": "stream",
     "text": [
      "['string', 1, 2, 5, 6, 7, 456, [3, 4, 5, 7], 'a', 'b', 'c', 5.0, 6.0, 3.0, 'pune']\n",
      "['string', 1, 2, 5, 6, 7, 456, [3, 4, 5, 7], 'a', 'b', 'c', 5.0, 6.0, 3.0, 'pune', [100, 200]]\n"
     ]
    }
   ],
   "source": [
    "print(mylist)\n",
    "mylist.append([100,200])\n",
    "print(mylist)"
   ]
  },
  {
   "cell_type": "markdown",
   "metadata": {},
   "source": [
    "#### Extend()"
   ]
  },
  {
   "cell_type": "code",
   "execution_count": 2,
   "metadata": {},
   "outputs": [
    {
     "name": "stdout",
     "output_type": "stream",
     "text": [
      "['string', 1, 2, 5, 6, 7, 456, [3, 4, 5, 7], 'a', 'b', 'c', 5.0, 6.0, 3.0, 'pune']\n",
      "['string', 1, 2, 5, 6, 7, 456, [3, 4, 5, 7], 'a', 'b', 'c', 5.0, 6.0, 3.0, 'pune', 111, 222]\n"
     ]
    }
   ],
   "source": [
    "mylist = ['string', 1, 2, 5, 6, 7, 456, [3, 4, 5, 7], 'a', 'b', 'c', 5.0, 6.0, 3.0, 'pune']\n",
    "print(mylist)\n",
    "mylist.extend([111,222])   #takes iterable values, takes element and separate all the elements\n",
    "#mylist.extend(500)         #error\n",
    "#mylist.extend([500])       #correct, but same as append(), so redundable\n",
    "print(mylist) "
   ]
  },
  {
   "cell_type": "code",
   "execution_count": 21,
   "metadata": {},
   "outputs": [
    {
     "name": "stdout",
     "output_type": "stream",
     "text": [
      "['string', 1, 2, 5, 6, 7, 456, [3, 4, 5, 7], 'a', 'b', 'c', 5.0, 6.0, 3.0, 'pune', [100, 200], 100, 200]\n",
      "['string', 1, 2, 5, 6, 7, 456, [3, 4, 5, 7], 'a', 'b', 'c', 5.0, 6.0, 3.0, 'pune', [100, 200], 100, 200, 'p', 'u', 'n', 'e']\n"
     ]
    }
   ],
   "source": [
    "print(mylist)\n",
    "mylist.extend(\"pune\")  #even the characters of the string are separated\n",
    "print(mylist)"
   ]
  },
  {
   "cell_type": "markdown",
   "metadata": {},
   "source": [
    "#### Insert()"
   ]
  },
  {
   "cell_type": "code",
   "execution_count": 25,
   "metadata": {},
   "outputs": [
    {
     "name": "stdout",
     "output_type": "stream",
     "text": [
      "['string', 1, 2, 5, 6, 7, 456, [3, 4, 5, 7], 'a', 'b', 'c', 5.0, 6.0, 3.0, 'pune', [100, 200], 100, 200, 'p', 'u', 'n', 'e']\n",
      "['string', 1, 2, 5, 6, 7, 456, [3, 4, 5, 7], 'a', 'b', 'c', 5.0, 6.0, 3.0, 'delhi', 'pune', [100, 200], 100, 200, 'p', 'u', 'n', 'e']\n"
     ]
    }
   ],
   "source": [
    "# insert 'delhi' before 'pune'\n",
    "print(mylist)\n",
    "mylist.insert(mylist.index('pune'),'delhi')  # inserts before the object\n",
    "print(mylist)"
   ]
  },
  {
   "cell_type": "code",
   "execution_count": null,
   "metadata": {},
   "outputs": [],
   "source": [
    "print(mylist)\n",
    "mylist.insert(mylist.index('pune'),'delhi')\n",
    "print(mylist)"
   ]
  },
  {
   "cell_type": "code",
   "execution_count": 31,
   "metadata": {},
   "outputs": [
    {
     "name": "stdout",
     "output_type": "stream",
     "text": [
      "[2, 3, 5, 6]\n",
      "[2, 3, 2, 3, 2, 3]\n",
      "['string', 1, 2, 5, 6, 7, 456, [3, 4, 5, 7], 'a', 'b', 'c', 5.0, 6.0, 3.0, 'delhi', 'pune', [100, 200], 100, 200, 'p', 'u', 'n', 'e', 'string', 1, 2, 5, 6, 7, 456, [3, 4, 5, 7], 'a', 'b', 'c', 5.0, 6.0, 3.0, 'delhi', 'pune', [100, 200], 100, 200, 'p', 'u', 'n', 'e', 'string', 1, 2, 5, 6, 7, 456, [3, 4, 5, 7], 'a', 'b', 'c', 5.0, 6.0, 3.0, 'delhi', 'pune', [100, 200], 100, 200, 'p', 'u', 'n', 'e']\n"
     ]
    }
   ],
   "source": [
    "## '+' and '*' \n",
    "\n",
    "print([2,3]+[5,6])\n",
    "#print([30,50]+ 5)   # error\n",
    " \n",
    "print([2,3]*3)       # will display 3 times\n",
    "#print([2,3]*[3,4])  # error\n",
    "print(mylist*3)"
   ]
  },
  {
   "cell_type": "markdown",
   "metadata": {},
   "source": [
    "#### Removing elements:\n",
    "     - pop() : deletes an item by its index position\n",
    "     - remove() : deletes an item by its value"
   ]
  },
  {
   "cell_type": "markdown",
   "metadata": {},
   "source": [
    "#### Pop()"
   ]
  },
  {
   "cell_type": "code",
   "execution_count": 32,
   "metadata": {},
   "outputs": [],
   "source": [
    "mylist = ['string', 1, 2, 5, 6, 7, 456, [3, 4, 5, 7], 'a', 'b', 'c', 5.0, 6.0, 3.0, 'pune', [100, 200], 100, 200]"
   ]
  },
  {
   "cell_type": "code",
   "execution_count": 34,
   "metadata": {},
   "outputs": [
    {
     "name": "stdout",
     "output_type": "stream",
     "text": [
      "['string', 1, 2, 5, 6, 7, 456, [3, 4, 5, 7], 'a', 'b', 'c', 5.0, 6.0, 3.0, 'pune', [100, 200]]\n"
     ]
    }
   ],
   "source": [
    "##pop()\n",
    "\n",
    "mylist.pop()  #pops last element\n",
    "print(mylist)"
   ]
  },
  {
   "cell_type": "code",
   "execution_count": 35,
   "metadata": {},
   "outputs": [
    {
     "name": "stdout",
     "output_type": "stream",
     "text": [
      "['string', 1, 2, 5, 6, 7, [3, 4, 5, 7], 'a', 'b', 'c', 5.0, 6.0, 3.0, 'pune', [100, 200]]\n"
     ]
    }
   ],
   "source": [
    "# pop 456 from the list\n",
    "mylist.pop(6)    # negative indexing can be also done, but not slicing\n",
    "print(mylist)"
   ]
  },
  {
   "cell_type": "markdown",
   "metadata": {},
   "source": [
    "#### remove()"
   ]
  },
  {
   "cell_type": "code",
   "execution_count": 40,
   "metadata": {},
   "outputs": [
    {
     "name": "stdout",
     "output_type": "stream",
     "text": [
      "[1, 2, 5, 6, 7, [3, 4, 5, 7], 'a', 'b', 'c', 5.0, 6.0, 3.0, 'pune', [100, 200]]\n",
      "[1, 2, 5, 6, 7, [3, 4, 5, 7], 'a', 'b', 'c', 5.0, 6.0, 3.0, [100, 200]]\n"
     ]
    }
   ],
   "source": [
    "print(mylist)\n",
    "mylist.remove(\"pune\")  # removes only 1st occurence \n",
    "print(mylist)"
   ]
  },
  {
   "cell_type": "code",
   "execution_count": 42,
   "metadata": {},
   "outputs": [
    {
     "name": "stdout",
     "output_type": "stream",
     "text": [
      "1\n"
     ]
    }
   ],
   "source": [
    "#count()\n",
    "print(mylist.count('a'))"
   ]
  },
  {
   "cell_type": "code",
   "execution_count": 43,
   "metadata": {},
   "outputs": [
    {
     "name": "stdout",
     "output_type": "stream",
     "text": [
      "[1, 3, 4, 5, 6, 7, 8]\n"
     ]
    }
   ],
   "source": [
    "#sort()  - sorts in ascending order, partial sorting not possible\n",
    "list_ = [3,4,6,7,1,5,8]\n",
    "list_.sort()\n",
    "print(list_)"
   ]
  },
  {
   "cell_type": "code",
   "execution_count": 4,
   "metadata": {},
   "outputs": [
    {
     "name": "stdout",
     "output_type": "stream",
     "text": [
      "[1, 2, 5, 6, 7, [3, 4, 5, 7], 'a', 'b', 'c', 5.0, 6.0, 3.0, 'pune', [100, 200]]\n",
      "[[100, 200], 'pune', 3.0, 6.0, 5.0, 'c', 'b', 'a', [3, 4, 5, 7], 7, 6, 5, 2, 1]\n"
     ]
    }
   ],
   "source": [
    "#Reverse() - reverses the whole list\n",
    "mylist = [1, 2, 5, 6, 7, [3, 4, 5, 7], 'a', 'b', 'c', 5.0, 6.0, 3.0, 'pune', [100, 200]]\n",
    "print(mylist)\n",
    "mylist.reverse()\n",
    "print(mylist)"
   ]
  },
  {
   "cell_type": "markdown",
   "metadata": {},
   "source": [
    "#### Loop through a list\n",
    "     - to delete/remove multiple occurences of a list, its done through looping"
   ]
  },
  {
   "cell_type": "code",
   "execution_count": 5,
   "metadata": {},
   "outputs": [],
   "source": [
    "mylist = [1,2,1,3,4,1,5,1,2]"
   ]
  },
  {
   "cell_type": "code",
   "execution_count": 6,
   "metadata": {},
   "outputs": [
    {
     "name": "stdout",
     "output_type": "stream",
     "text": [
      "1\n",
      "2\n",
      "1\n",
      "3\n",
      "4\n",
      "1\n",
      "5\n",
      "1\n",
      "2\n"
     ]
    }
   ],
   "source": [
    "for each in mylist:\n",
    "    print(each)"
   ]
  },
  {
   "cell_type": "code",
   "execution_count": 11,
   "metadata": {},
   "outputs": [
    {
     "name": "stdout",
     "output_type": "stream",
     "text": [
      "[2, 3, 4, 5, 2]\n"
     ]
    }
   ],
   "source": [
    "#to remove iteration of 1 from list:\n",
    "for each in mylist:\n",
    "    if each == 1:\n",
    "        mylist.remove(each)\n",
    " \n",
    "    #print(mylist) - will print 5 times\n",
    "print(mylist)"
   ]
  },
  {
   "cell_type": "code",
   "execution_count": 12,
   "metadata": {},
   "outputs": [
    {
     "data": {
      "text/plain": [
       "[2, 3, 4, 5, 2]"
      ]
     },
     "execution_count": 12,
     "metadata": {},
     "output_type": "execute_result"
    }
   ],
   "source": [
    "mylist = [1,2,1,3,4,1,5,1,2]\n",
    "i = 0\n",
    "while i < len(mylist):      #removing through while loop(not recommended)\n",
    "    val = mylist[i]\n",
    "    if val == 1:\n",
    "        mylist.remove(val)\n",
    "    i += 1\n",
    "    \n",
    "mylist"
   ]
  },
  {
   "cell_type": "markdown",
   "metadata": {},
   "source": [
    "1. WAP to generate a list of squares of integers 1:10\n",
    "2. [1,2,3,4,5,6,7,8,9,10] => x = x+2 where x represents each element of the list"
   ]
  },
  {
   "cell_type": "code",
   "execution_count": 16,
   "metadata": {},
   "outputs": [
    {
     "name": "stdout",
     "output_type": "stream",
     "text": [
      "1\n",
      "4\n",
      "9\n",
      "16\n",
      "25\n",
      "36\n",
      "49\n",
      "64\n",
      "81\n",
      "100\n"
     ]
    }
   ],
   "source": [
    "## 1. WAP to generate a list of squares of integers 1:10\n",
    "\n",
    "sq_list = []     #to store squares of the values\n",
    "\n",
    "for each in range(1,11):\n",
    "    print(each**2)"
   ]
  },
  {
   "cell_type": "code",
   "execution_count": 18,
   "metadata": {},
   "outputs": [
    {
     "name": "stdout",
     "output_type": "stream",
     "text": [
      "[]\n",
      "[1]\n",
      "[1, 4]\n",
      "[1, 4, 9]\n",
      "[1, 4, 9, 16]\n",
      "[1, 4, 9, 16, 25]\n",
      "[1, 4, 9, 16, 25, 36]\n",
      "[1, 4, 9, 16, 25, 36, 49]\n",
      "[1, 4, 9, 16, 25, 36, 49, 64]\n",
      "[1, 4, 9, 16, 25, 36, 49, 64, 81]\n"
     ]
    },
    {
     "data": {
      "text/plain": [
       "[1, 4, 9, 16, 25, 36, 49, 64, 81, 100]"
      ]
     },
     "execution_count": 18,
     "metadata": {},
     "output_type": "execute_result"
    }
   ],
   "source": [
    "## another and effective way:\n",
    "sq_list = []   \n",
    "\n",
    "for each in range(1,11):\n",
    "#   print(each**2)\n",
    "    print(sq_list)             # to see how it's appending in the list\n",
    "    sq_list.append(each**2)\n",
    "sq_list"
   ]
  },
  {
   "cell_type": "code",
   "execution_count": null,
   "metadata": {},
   "outputs": [],
   "source": [
    "### append() : doing operation on a set of values and later store it as a list, we use append() "
   ]
  },
  {
   "cell_type": "code",
   "execution_count": 20,
   "metadata": {},
   "outputs": [
    {
     "name": "stdout",
     "output_type": "stream",
     "text": [
      "1\n",
      "4\n",
      "9\n",
      "16\n",
      "25\n",
      "36\n",
      "49\n",
      "64\n",
      "81\n",
      "100\n"
     ]
    },
    {
     "data": {
      "text/plain": [
       "[1, 2, 3, 4, 5, 6, 7, 8, 9, 10]"
      ]
     },
     "execution_count": 20,
     "metadata": {},
     "output_type": "execute_result"
    }
   ],
   "source": [
    "mylist = [1,2,3,4,5,6,7,8,9,10]\n",
    "for each in mylist:\n",
    "    print(each**2)\n",
    "    \n",
    "#print(mylist)     # dont print mylist outside since it will always print original and not updated\n",
    "#mylist            # to print actual list after update, we should take blank list"
   ]
  },
  {
   "cell_type": "code",
   "execution_count": 21,
   "metadata": {},
   "outputs": [
    {
     "ename": "MemoryError",
     "evalue": "",
     "output_type": "error",
     "traceback": [
      "\u001b[1;31m---------------------------------------------------------------------------\u001b[0m",
      "\u001b[1;31mMemoryError\u001b[0m                               Traceback (most recent call last)",
      "\u001b[1;32m<ipython-input-21-7db6d1eb2d36>\u001b[0m in \u001b[0;36m<module>\u001b[1;34m\u001b[0m\n\u001b[0;32m      3\u001b[0m \u001b[0malist\u001b[0m \u001b[1;33m=\u001b[0m \u001b[1;33m[\u001b[0m\u001b[1;36m1\u001b[0m\u001b[1;33m,\u001b[0m\u001b[1;36m2\u001b[0m\u001b[1;33m,\u001b[0m\u001b[1;36m3\u001b[0m\u001b[1;33m,\u001b[0m\u001b[1;36m4\u001b[0m\u001b[1;33m,\u001b[0m\u001b[1;36m5\u001b[0m\u001b[1;33m,\u001b[0m\u001b[1;36m6\u001b[0m\u001b[1;33m,\u001b[0m\u001b[1;36m7\u001b[0m\u001b[1;33m,\u001b[0m\u001b[1;36m8\u001b[0m\u001b[1;33m,\u001b[0m\u001b[1;36m9\u001b[0m\u001b[1;33m,\u001b[0m\u001b[1;36m10\u001b[0m\u001b[1;33m]\u001b[0m\u001b[1;33m\u001b[0m\u001b[1;33m\u001b[0m\u001b[0m\n\u001b[0;32m      4\u001b[0m \u001b[1;32mfor\u001b[0m \u001b[0mx\u001b[0m \u001b[1;32min\u001b[0m \u001b[0malist\u001b[0m\u001b[1;33m:\u001b[0m\u001b[1;33m\u001b[0m\u001b[1;33m\u001b[0m\u001b[0m\n\u001b[1;32m----> 5\u001b[1;33m     \u001b[0malist\u001b[0m\u001b[1;33m.\u001b[0m\u001b[0mappend\u001b[0m\u001b[1;33m(\u001b[0m\u001b[0mx\u001b[0m\u001b[1;33m+\u001b[0m\u001b[1;36m2\u001b[0m\u001b[1;33m)\u001b[0m\u001b[1;33m\u001b[0m\u001b[1;33m\u001b[0m\u001b[0m\n\u001b[0m\u001b[0;32m      6\u001b[0m \u001b[0malist\u001b[0m\u001b[1;33m\u001b[0m\u001b[1;33m\u001b[0m\u001b[0m\n",
      "\u001b[1;31mMemoryError\u001b[0m: "
     ]
    }
   ],
   "source": [
    "## 2. [1,2,3,4,5,6,7,8,9,10] => x = x+2 where x represents each element of the list\n",
    "\n",
    "# WHAT NOT TO DO:\n",
    "alist = [1,2,3,4,5,6,7,8,9,10]  #memory error, we have to take empty list\n",
    "for x in alist:\n",
    "    alist.append(x+2)\n",
    "alist"
   ]
  },
  {
   "cell_type": "code",
   "execution_count": 2,
   "metadata": {},
   "outputs": [
    {
     "data": {
      "text/plain": [
       "[]"
      ]
     },
     "execution_count": 2,
     "metadata": {},
     "output_type": "execute_result"
    }
   ],
   "source": [
    "# WHAT NOT TO DO:\n",
    "\n",
    "add_2 = []\n",
    "for x in add_2:\n",
    "    add_2.append(x+2)\n",
    "    \n",
    "add_2"
   ]
  },
  {
   "cell_type": "code",
   "execution_count": 3,
   "metadata": {},
   "outputs": [
    {
     "data": {
      "text/plain": [
       "[3, 4, 5, 6, 7, 8, 9, 10, 11, 12]"
      ]
     },
     "execution_count": 3,
     "metadata": {},
     "output_type": "execute_result"
    }
   ],
   "source": [
    "add_2 = []\n",
    "for x in [1,2,3,4,5,6,7,8,9,10]:\n",
    "    add_2.append(x+2)\n",
    "    \n",
    "add_2"
   ]
  },
  {
   "cell_type": "markdown",
   "metadata": {},
   "source": [
    "3. WAP to generate a list of integers 1:10 where square even numbers and square root odd elements.\n"
   ]
  },
  {
   "cell_type": "code",
   "execution_count": 6,
   "metadata": {},
   "outputs": [
    {
     "data": {
      "text/plain": [
       "[1.0,\n",
       " 4,\n",
       " 1.7320508075688772,\n",
       " 16,\n",
       " 2.23606797749979,\n",
       " 36,\n",
       " 2.6457513110645907,\n",
       " 64,\n",
       " 3.0,\n",
       " 100]"
      ]
     },
     "execution_count": 6,
     "metadata": {},
     "output_type": "execute_result"
    }
   ],
   "source": [
    "new_list = []\n",
    "for each in [1,2,3,4,5,6,7,8,9,10]:    # or we can write range(1,11) instead of taking list\n",
    "    if each%2 ==0:\n",
    "        new_list.append(each**2)       # keep modifying in the object of a list which will represent new modified list\n",
    "        #print(each**2)                # does not append in final list, that's why append() is used\n",
    "    else:\n",
    "        new_list.append(each**0.5)\n",
    "        #print(each+2)\n",
    "new_list"
   ]
  },
  {
   "cell_type": "code",
   "execution_count": 8,
   "metadata": {},
   "outputs": [
    {
     "data": {
      "text/plain": [
       "['__doc__',\n",
       " '__loader__',\n",
       " '__name__',\n",
       " '__package__',\n",
       " '__spec__',\n",
       " 'acos',\n",
       " 'acosh',\n",
       " 'asin',\n",
       " 'asinh',\n",
       " 'atan',\n",
       " 'atan2',\n",
       " 'atanh',\n",
       " 'ceil',\n",
       " 'comb',\n",
       " 'copysign',\n",
       " 'cos',\n",
       " 'cosh',\n",
       " 'degrees',\n",
       " 'dist',\n",
       " 'e',\n",
       " 'erf',\n",
       " 'erfc',\n",
       " 'exp',\n",
       " 'expm1',\n",
       " 'fabs',\n",
       " 'factorial',\n",
       " 'floor',\n",
       " 'fmod',\n",
       " 'frexp',\n",
       " 'fsum',\n",
       " 'gamma',\n",
       " 'gcd',\n",
       " 'hypot',\n",
       " 'inf',\n",
       " 'isclose',\n",
       " 'isfinite',\n",
       " 'isinf',\n",
       " 'isnan',\n",
       " 'isqrt',\n",
       " 'ldexp',\n",
       " 'lgamma',\n",
       " 'log',\n",
       " 'log10',\n",
       " 'log1p',\n",
       " 'log2',\n",
       " 'modf',\n",
       " 'nan',\n",
       " 'perm',\n",
       " 'pi',\n",
       " 'pow',\n",
       " 'prod',\n",
       " 'radians',\n",
       " 'remainder',\n",
       " 'sin',\n",
       " 'sinh',\n",
       " 'sqrt',\n",
       " 'tan',\n",
       " 'tanh',\n",
       " 'tau',\n",
       " 'trunc']"
      ]
     },
     "execution_count": 8,
     "metadata": {},
     "output_type": "execute_result"
    }
   ],
   "source": [
    "import math\n",
    "dir(math)    #list of operations in math directory"
   ]
  },
  {
   "cell_type": "markdown",
   "metadata": {},
   "source": [
    "#### Checking if item exist - can be done by membership operator"
   ]
  },
  {
   "cell_type": "code",
   "execution_count": 11,
   "metadata": {},
   "outputs": [
    {
     "name": "stdout",
     "output_type": "stream",
     "text": [
      "True\n",
      "True\n"
     ]
    }
   ],
   "source": [
    "city = ['bangalore', 'chennai', 'pune','kolkata']\n",
    "\n",
    "#check if chennai is a part of city list:\n",
    "print('chennai' in city)\n",
    "print('chennai' in 'this is chennai city')"
   ]
  },
  {
   "cell_type": "code",
   "execution_count": 12,
   "metadata": {},
   "outputs": [
    {
     "name": "stdout",
     "output_type": "stream",
     "text": [
      "found\n"
     ]
    }
   ],
   "source": [
    "if 'chennai' in city:\n",
    "    print('found')        # displaying message for the user\n",
    "else:\n",
    "    print('not a member')"
   ]
  },
  {
   "cell_type": "markdown",
   "metadata": {},
   "source": [
    "#### Copying a list"
   ]
  },
  {
   "cell_type": "code",
   "execution_count": 13,
   "metadata": {},
   "outputs": [
    {
     "name": "stdout",
     "output_type": "stream",
     "text": [
      "[1, 2, 4, 'bangalore']\n",
      "[1, 2, 4, 'bangalore']\n",
      "[1, 2, 4, 'bangalore', 'city']\n",
      "[1, 2, 4, 'bangalore', 'city']\n"
     ]
    }
   ],
   "source": [
    "o_list = [1,2,4,'bangalore']\n",
    "c_list = o_list   # copy by reference # 2 objects are pointing at same location, so any modification at 1 object will reflect on other also\n",
    "print(o_list)\n",
    "print(c_list)\n",
    "c_list.append('city')\n",
    "print(o_list)\n",
    "print(c_list)"
   ]
  },
  {
   "cell_type": "code",
   "execution_count": 14,
   "metadata": {},
   "outputs": [
    {
     "name": "stdout",
     "output_type": "stream",
     "text": [
      "[1, 2, 4, 'bangalore']\n",
      "[1, 2, 4, 'bangalore']\n",
      "[1, 2, 4, 'bangalore']\n",
      "[1, 2, 4, 'bangalore', 'city']\n"
     ]
    }
   ],
   "source": [
    "o_list = [1,2,4,'bangalore']\n",
    "c_list = o_list.copy()  # copy by value # 2 objects are pointing at different location, so any modification are independent to each other.\n",
    "# use when you want to copy the list content to another list but dont want any further modification to not be reflected back to original list\n",
    "print(o_list)\n",
    "print(c_list)\n",
    "c_list.append('city')\n",
    "print(o_list)\n",
    "print(c_list)"
   ]
  },
  {
   "cell_type": "code",
   "execution_count": 16,
   "metadata": {},
   "outputs": [],
   "source": [
    "# another example of copy by and copy by reference:\n",
    "var1 = 5\n",
    "var2 = 10\n",
    "var3 = var1"
   ]
  },
  {
   "cell_type": "code",
   "execution_count": 17,
   "metadata": {},
   "outputs": [
    {
     "name": "stdout",
     "output_type": "stream",
     "text": [
      "5\n",
      "5\n",
      "10\n",
      "5\n"
     ]
    }
   ],
   "source": [
    "print(var3)\n",
    "print(var1)\n",
    "var3 = 10\n",
    "print(var3)\n",
    "print(var1)  # original value is not modified as 10"
   ]
  },
  {
   "cell_type": "code",
   "execution_count": null,
   "metadata": {},
   "outputs": [],
   "source": []
  },
  {
   "cell_type": "code",
   "execution_count": null,
   "metadata": {},
   "outputs": [],
   "source": []
  },
  {
   "cell_type": "code",
   "execution_count": null,
   "metadata": {},
   "outputs": [],
   "source": []
  }
 ],
 "metadata": {
  "kernelspec": {
   "display_name": "Python 3",
   "language": "python",
   "name": "python3"
  },
  "language_info": {
   "codemirror_mode": {
    "name": "ipython",
    "version": 3
   },
   "file_extension": ".py",
   "mimetype": "text/x-python",
   "name": "python",
   "nbconvert_exporter": "python",
   "pygments_lexer": "ipython3",
   "version": "3.8.3"
  }
 },
 "nbformat": 4,
 "nbformat_minor": 4
}
